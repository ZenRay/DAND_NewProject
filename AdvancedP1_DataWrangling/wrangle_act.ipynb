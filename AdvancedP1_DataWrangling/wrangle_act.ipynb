{
 "cells": [
  {
   "cell_type": "code",
   "execution_count": 1,
   "metadata": {},
   "outputs": [],
   "source": [
    "# import packages\n",
    "import pandas as pd\n",
    "import numpy as np\n",
    "from matplotlib import pyplot as plt\n",
    "import requests\n",
    "import json\n",
    "import sys\n",
    "import os\n",
    "import re\n",
    "import pprint\n",
    "import time\n",
    "import copy\n",
    "from bs4 import BeautifulSoup"
   ]
  },
  {
   "cell_type": "code",
   "execution_count": 2,
   "metadata": {},
   "outputs": [],
   "source": [
    "# create the data directory, remove the files if they exits\n",
    "folder_name = \"./data\"\n",
    "\n",
    "if not os.path.exists(folder_name):\n",
    "    os.makedirs(folder_name)\n",
    "else:\n",
    "    for i in os.scandir(folder_name):\n",
    "        try:\n",
    "            os.remove(i)\n",
    "        except:\n",
    "            continue"
   ]
  },
  {
   "cell_type": "code",
   "execution_count": 3,
   "metadata": {},
   "outputs": [],
   "source": [
    "# get the data from url\n",
    "image_prediction_url = \"https://raw.githubusercontent.com/udacity/new-dand-advanced-china/master/%E6%95%B0%E6%8D%AE%E6%B8%85%E6%B4%97/WeRateDogs%E9%A1%B9%E7%9B%AE/image-predictions.tsv\"\n",
    "twitter_archive_enhanced_url = \"https://raw.githubusercontent.com/udacity/new-dand-advanced-china/master/%E6%95%B0%E6%8D%AE%E6%B8%85%E6%B4%97/WeRateDogs%E9%A1%B9%E7%9B%AE/twitter-archive-enhanced.csv\"\n",
    "tweet_json_url = \"https://raw.githubusercontent.com/udacity/new-dand-advanced-china/master/%E6%95%B0%E6%8D%AE%E6%B8%85%E6%B4%97/WeRateDogs%E9%A1%B9%E7%9B%AE/tweet_json.txt\""
   ]
  },
  {
   "cell_type": "code",
   "execution_count": 4,
   "metadata": {},
   "outputs": [],
   "source": [
    "# get the data by using a function\n",
    "def get_data(url, path):\n",
    "    \"\"\"\n",
    "    get the data from the url. Return the path of the data\n",
    "    file\n",
    "    \n",
    "    Args:\n",
    "    (str) url - the data address on the web\n",
    "    (str) path - the parent path which stores the data\n",
    "    \n",
    "    Returns:\n",
    "    (str) result - the file path which store the data\n",
    "    \"\"\"\n",
    "    \n",
    "    result = os.path.join(path, os.path.basename(url))\n",
    "    \n",
    "    url_request = requests.get(url)\n",
    "    \n",
    "    with open(result, \"wb\") as file:\n",
    "        file.write(url_request.content)\n",
    "    # adjust the sleep time to increase requesting interval\n",
    "    time.sleep(3)\n",
    "    return result"
   ]
  },
  {
   "cell_type": "code",
   "execution_count": 5,
   "metadata": {},
   "outputs": [],
   "source": [
    "# get the datas by using the url and the function\n",
    "if True:\n",
    "    image_prediction = get_data(image_prediction_url, folder_name)\n",
    "    twitter_archive_enhanced = get_data(twitter_archive_enhanced_url, folder_name)\n",
    "    tweet_json = get_data(tweet_json_url, folder_name)\n",
    "else:\n",
    "    image_prediction = \"./data/image-predictions.tsv\"\n",
    "    twitter_archive_enhanced = \"./data/twitter-archive-enhanced.csv\"\n",
    "    tweet_json = \"./data/tweet_json.txt\""
   ]
  },
  {
   "cell_type": "code",
   "execution_count": 6,
   "metadata": {},
   "outputs": [],
   "source": [
    "# compare the files, which does just check the files\n",
    "import filecmp\n",
    "if False:\n",
    "    print(filecmp.cmp(image_prediction, \"./Test/image-predictions.tsv\"), \n",
    "          filecmp.cmp(twitter_archive_enhanced, \"./Test/twitter-archive-enhanced.csv\"),\n",
    "          filecmp.cmp(tweet_json, \"./Test/tweet_json.txt\"))"
   ]
  },
  {
   "cell_type": "markdown",
   "metadata": {},
   "source": [
    "### 1. 收集数据\n",
    "1. 本次项目中数据已经由 `project` 给出了相关的下载链接，因此先直接使用了 `requests` 库获取相关的数据，保留了原始的文件名。另外因为是对数据获取是使用 `requests` 进行下载，通过完全将数据通过 `binary` 写入文件。为了验证得到数据的准确性，使用了 `filecmp` 对直接下载的数据和 `requests` 得到的数据进行比较。\n",
    "\n",
    "2. 本次项目中得到了三种类型文件： `csv`, `tsv` 以及 `txt`。前两种文件类型比较容易处理，通过 `pandas` 的相关读取方法即可得到数据内容；但是 `txt` 的文件比较有难度，体现在——a）文件内容其实是 `json` 类型的；b）通过 `open` 的方式读取得到的数据是一个字符串，需要对数据内容进行相关处理。c）对数据进行相关的提取，一方面是因为在实际情况中并非是所有的数据都是必须的。对某些数据需要合适转换才能完成数据完整读取"
   ]
  },
  {
   "cell_type": "code",
   "execution_count": 7,
   "metadata": {},
   "outputs": [],
   "source": [
    "# load the datas\n",
    "twitter_archive_data = pd.read_csv(twitter_archive_enhanced)\n",
    "\n",
    "image_prediction_data = pd.read_csv(image_prediction, sep=\"\\t\")"
   ]
  },
  {
   "cell_type": "code",
   "execution_count": 8,
   "metadata": {},
   "outputs": [],
   "source": [
    "tweet_data = pd.DataFrame()\n",
    "index_count = -1\n",
    "\n",
    "with open(tweet_json, \"rb\") as file:\n",
    "    for i in file.readlines():\n",
    "        temp = []\n",
    "        dict_data = json.loads(i)\n",
    "        temp.append({\"id\": dict_data[\"id\"], \n",
    "                     \"created_at\": dict_data[\"created_at\"], \n",
    "                     \"full_text\": dict_data[\"full_text\"], \n",
    "                     \"retweet_count\":dict_data[\"retweet_count\"], \n",
    "                     \"favorite_count\":dict_data[\"favorite_count\"],\n",
    "                     \"in_reply_to_user_id\": dict_data[\"in_reply_to_user_id\"],\n",
    "                     \"in_reply_to_status_id\": dict_data[\"in_reply_to_status_id\"],\n",
    "                     \"source\": dict_data[\"source\"]})\n",
    "        # maybe dict data can't contain the key\n",
    "        try:\n",
    "            temp[0][\"media_url\"] =  dict_data[\"entities\"][\"media\"][0][\"media_url_https\"]\n",
    "        except KeyError:\n",
    "            temp[0][\"media_url\"] =  None\n",
    "            \n",
    "        try:\n",
    "            temp[0][\"expanded_url\"] =  dict_data[\"extended_entities\"][\"media\"][0][\"expanded_url\"]\n",
    "        except KeyError:\n",
    "            temp[0][\"expanded_url\"] =  None\n",
    "            \n",
    "            \n",
    "        temp = pd.DataFrame(temp, columns=[\"id\", \"created_at\", \"full_text\", \"media_url\",\n",
    "                                           \"favorite_count\", \"retweet_count\", \"in_reply_to_status_id\",\n",
    "                                           \"in_reply_to_user_id\", \"expanded_url\", \"source\"],\n",
    "                            index=pd.Index([index_count+1]))\n",
    "        tweet_data = pd.concat([tweet_data, temp])\n",
    "        \n",
    "        # increase the index value\n",
    "        index_count += 1"
   ]
  },
  {
   "cell_type": "code",
   "execution_count": 9,
   "metadata": {},
   "outputs": [],
   "source": [
    "# print the keys\n",
    "def print_fields(column_data, name):\n",
    "    \"\"\"\n",
    "    display the information about the data fields\n",
    "    \n",
    "    Args:\n",
    "    (Array) column_data - the fields about the data\n",
    "    (str) name - the name of the data variable\n",
    "    \n",
    "    Returns:\n",
    "    (None)\n",
    "    \"\"\"    \n",
    "    print(\"There are %d fields in the %s:\\n\" % (len(column_data), name))\n",
    "\n",
    "    for i, key in enumerate(column_data):\n",
    "        print(\"{0:<2}\\t{1:<30}\".format(i+1, key))"
   ]
  },
  {
   "cell_type": "code",
   "execution_count": 10,
   "metadata": {},
   "outputs": [
    {
     "name": "stdout",
     "output_type": "stream",
     "text": [
      "There are 12 fields in the image_prediction_data:\n",
      "\n",
      "1 \ttweet_id                      \n",
      "2 \tjpg_url                       \n",
      "3 \timg_num                       \n",
      "4 \tp1                            \n",
      "5 \tp1_conf                       \n",
      "6 \tp1_dog                        \n",
      "7 \tp2                            \n",
      "8 \tp2_conf                       \n",
      "9 \tp2_dog                        \n",
      "10\tp3                            \n",
      "11\tp3_conf                       \n",
      "12\tp3_dog                        \n"
     ]
    }
   ],
   "source": [
    "# image_prediction_data\n",
    "print_fields(image_prediction_data.columns, \"image_prediction_data\")"
   ]
  },
  {
   "cell_type": "code",
   "execution_count": 11,
   "metadata": {},
   "outputs": [
    {
     "name": "stdout",
     "output_type": "stream",
     "text": [
      "There are 17 fields in the twitter_archive_data:\n",
      "\n",
      "1 \ttweet_id                      \n",
      "2 \tin_reply_to_status_id         \n",
      "3 \tin_reply_to_user_id           \n",
      "4 \ttimestamp                     \n",
      "5 \tsource                        \n",
      "6 \ttext                          \n",
      "7 \tretweeted_status_id           \n",
      "8 \tretweeted_status_user_id      \n",
      "9 \tretweeted_status_timestamp    \n",
      "10\texpanded_urls                 \n",
      "11\trating_numerator              \n",
      "12\trating_denominator            \n",
      "13\tname                          \n",
      "14\tdoggo                         \n",
      "15\tfloofer                       \n",
      "16\tpupper                        \n",
      "17\tpuppo                         \n"
     ]
    }
   ],
   "source": [
    "# twitter_archive_data\n",
    "print_fields(twitter_archive_data.columns, \"twitter_archive_data\")"
   ]
  },
  {
   "cell_type": "code",
   "execution_count": 12,
   "metadata": {},
   "outputs": [
    {
     "name": "stdout",
     "output_type": "stream",
     "text": [
      "There are 10 fields in the tweet_data:\n",
      "\n",
      "1 \tid                            \n",
      "2 \tcreated_at                    \n",
      "3 \tfull_text                     \n",
      "4 \tmedia_url                     \n",
      "5 \tfavorite_count                \n",
      "6 \tretweet_count                 \n",
      "7 \tin_reply_to_status_id         \n",
      "8 \tin_reply_to_user_id           \n",
      "9 \texpanded_url                  \n",
      "10\tsource                        \n"
     ]
    }
   ],
   "source": [
    "# tweet_data\n",
    "print_fields(tweet_data.columns, \"tweet_data\")"
   ]
  },
  {
   "cell_type": "markdown",
   "metadata": {},
   "source": [
    "### 2. 评估数据\n",
    "#### 2.1 对数据的 `field` 进行评估\n",
    "对 `tsv` 和 `csv` 文件采取了直接使用 `pandas` 读取数据，直接得到了两者的 `field`：其中 `image-prediction.tsv` 中有 `12` 个 `fields`，得到的结果如下：\n",
    "\n",
    "1. tweet_id : 推特链接中位于 \"status/\" 后面的一部分\n",
    "2. jpg_url:预测的图像资源链接\n",
    "3. img_num : 最可信的预测结果对应的图像编号\n",
    "4. p1 : 是算法对推特中图片的一号预测\n",
    "5. p1_conf : 是算法预测的可信度\n",
    "6. p1_dog : 预测该图片是否属于“狗”\n",
    "7. p2 : 算法对推特中图片预测的第二种可能性\n",
    "8. p2_conf : 第二种算法的预测的可信度\n",
    "9. p2_dog : 第二种算法预测该图片是否属于“狗”\n",
    "10. p3 : 算法对推特中图片预测的第三种可能性\n",
    "11. p3_conf : 第三种算法的预测的可信度\n",
    "12. p3_dog : 第三种算法预测该图片是否属于“狗”\n",
    "\n",
    "\n",
    "而 `twitter-archive-enhanced.csv` 中有 `17` 个 `fields`，得到的结果如下：\n",
    "\n",
    "1. tweet_id : 推特链接中位于 \"status/\" 后面的最后一部分\n",
    "2. in_reply_to_status_id : 代表是否有回复，如果有保留了 `tweet_id` 的数据，以数字形式保存\n",
    "3. in_reply_to_user_id : 代表是否有回复，如果有保留了 `tweet_id` 的数据，以字符串形式保存\n",
    "4. timestamp : 创建时间\n",
    "5. source : 发送本条 `tweet` 时的设备信息，以 `HTML` 标签样式保存数据\n",
    "6. text : 发送的 `tweet` 信息，以 `utf-8` 的字符串形式保存数据\n",
    "7. retweeted_status_id : 第一个转 `tweet` 用户的信息\n",
    "8. retweeted_status_user_id : 第一个转 `tweet` 用户的信息\n",
    "9. retweeted_status_timestamp : 第一个转 `tweet` 用户的信息中的时间\n",
    "10. expanded_urls : `tweet` 的 `entities` 中 `url`\n",
    "11.\trating_numerator : 评分分数的分子\n",
    "12.\trating_denominator : 评分分数的分母\n",
    "13.\tname : 狗的品种名称\n",
    "14.\tdoggo : 狗是否属于该类型\n",
    "15.\tfloofer : 狗是否属于该类型\n",
    "16.\tpupper : 狗是否属于该类型\n",
    "17.\tpuppo : 狗是否属于该类型\n",
    "\n",
    "\n",
    "因为 `tweet_json.txt` 文件需要将数据转化为 `json` 类型，额外提取相关数据信息进行组合。本次提取数据是参考以上两个文件中的已有的 `field` 进行分析，一方面是想通过该数据验证以上数据是否正确，另一方面也是为了验证数据清洗的结果是否合理及正确。具体提取的 `field` 如下：\n",
    "\n",
    "1. id : 推特链接中位于 \"status/\" 后面的最后一部分，以数字形式保存\n",
    "2. created_at : `tweet` 发送时间\n",
    "3. full_text : 发送的 `tweet` 信息，以 `utf-8` 的字符串形式保存数据\n",
    "4. media_url : 狗的图像资源链接\n",
    "5. favorite_count : 表示被 `twitter` 用户喜欢的数量\n",
    "6. retweet_count : 表示被转发 `tweet` 的数量\n",
    "7. in_reply_to_status_id : 代表是否有回复，如果有保留了 `tweet_id` 的数据，以数字形式保存\n",
    "8. in_reply_to_user_id : 代表是否有回复，如果有保留了 `tweet_id` 的数据，以字符串形式保存\n",
    "9. expanded_url : \n",
    "10. source : 发送本条 `tweet` 时的设备信息，以 `HTML` 标签样式保存数据\n"
   ]
  },
  {
   "cell_type": "code",
   "execution_count": 13,
   "metadata": {
    "scrolled": false
   },
   "outputs": [
    {
     "name": "stdout",
     "output_type": "stream",
     "text": [
      "{'contributors': None,\n",
      " 'coordinates': None,\n",
      " 'created_at': 'Sun Nov 15 22:32:08 +0000 2015',\n",
      " 'display_text_range': [0, 131],\n",
      " 'entities': {'hashtags': [],\n",
      "              'media': [{'display_url': 'pic.twitter.com/BLDqew2Ijj',\n",
      "                         'expanded_url': 'https://twitter.com/dog_rates/status/666020888022790149/photo/1',\n",
      "                         'id': 666020881337073664,\n",
      "                         'id_str': '666020881337073664',\n",
      "                         'indices': [108, 131],\n",
      "                         'media_url': 'http://pbs.twimg.com/media/CT4udn0WwAA0aMy.jpg',\n",
      "                         'media_url_https': 'https://pbs.twimg.com/media/CT4udn0WwAA0aMy.jpg',\n",
      "                         'sizes': {'large': {'h': 720,\n",
      "                                             'resize': 'fit',\n",
      "                                             'w': 960},\n",
      "                                   'medium': {'h': 720,\n",
      "                                              'resize': 'fit',\n",
      "                                              'w': 960},\n",
      "                                   'small': {'h': 510,\n",
      "                                             'resize': 'fit',\n",
      "                                             'w': 680},\n",
      "                                   'thumb': {'h': 150,\n",
      "                                             'resize': 'crop',\n",
      "                                             'w': 150}},\n",
      "                         'type': 'photo',\n",
      "                         'url': 'https://t.co/BLDqew2Ijj'}],\n",
      "              'symbols': [],\n",
      "              'urls': [],\n",
      "              'user_mentions': []},\n",
      " 'extended_entities': {'media': [{'display_url': 'pic.twitter.com/BLDqew2Ijj',\n",
      "                                  'expanded_url': 'https://twitter.com/dog_rates/status/666020888022790149/photo/1',\n",
      "                                  'id': 666020881337073664,\n",
      "                                  'id_str': '666020881337073664',\n",
      "                                  'indices': [108, 131],\n",
      "                                  'media_url': 'http://pbs.twimg.com/media/CT4udn0WwAA0aMy.jpg',\n",
      "                                  'media_url_https': 'https://pbs.twimg.com/media/CT4udn0WwAA0aMy.jpg',\n",
      "                                  'sizes': {'large': {'h': 720,\n",
      "                                                      'resize': 'fit',\n",
      "                                                      'w': 960},\n",
      "                                            'medium': {'h': 720,\n",
      "                                                       'resize': 'fit',\n",
      "                                                       'w': 960},\n",
      "                                            'small': {'h': 510,\n",
      "                                                      'resize': 'fit',\n",
      "                                                      'w': 680},\n",
      "                                            'thumb': {'h': 150,\n",
      "                                                      'resize': 'crop',\n",
      "                                                      'w': 150}},\n",
      "                                  'type': 'photo',\n",
      "                                  'url': 'https://t.co/BLDqew2Ijj'}]},\n",
      " 'favorite_count': 2528,\n",
      " 'favorited': False,\n",
      " 'full_text': 'Here we have a Japanese Irish Setter. Lost eye in Vietnam (?). '\n",
      "              'Big fan of relaxing on stair. 8/10 would pet '\n",
      "              'https://t.co/BLDqew2Ijj',\n",
      " 'geo': None,\n",
      " 'id': 666020888022790149,\n",
      " 'id_str': '666020888022790149',\n",
      " 'in_reply_to_screen_name': None,\n",
      " 'in_reply_to_status_id': None,\n",
      " 'in_reply_to_status_id_str': None,\n",
      " 'in_reply_to_user_id': None,\n",
      " 'in_reply_to_user_id_str': None,\n",
      " 'is_quote_status': False,\n",
      " 'lang': 'en',\n",
      " 'place': None,\n",
      " 'possibly_sensitive': False,\n",
      " 'possibly_sensitive_appealable': False,\n",
      " 'retweet_count': 530,\n",
      " 'retweeted': False,\n",
      " 'source': '<a href=\"http://twitter.com/download/iphone\" '\n",
      "           'rel=\"nofollow\">Twitter for iPhone</a>',\n",
      " 'truncated': False,\n",
      " 'user': {'contributors_enabled': False,\n",
      "          'created_at': 'Sun Nov 15 21:41:29 +0000 2015',\n",
      "          'default_profile': False,\n",
      "          'default_profile_image': False,\n",
      "          'description': 'Only Legit Source for Professional Dog Ratings '\n",
      "                         'STORE: @ShopWeRateDogs | IG, FB & SC: WeRateDogs | '\n",
      "                         'MOBILE APP: @GoodDogsGame Business: '\n",
      "                         'dogratingtwitter@gmail.com',\n",
      "          'entities': {'description': {'urls': []},\n",
      "                       'url': {'urls': [{'display_url': 'weratedogs.com',\n",
      "                                         'expanded_url': 'http://weratedogs.com',\n",
      "                                         'indices': [0, 23],\n",
      "                                         'url': 'https://t.co/N7sNNHAEXS'}]}},\n",
      "          'favourites_count': 120161,\n",
      "          'follow_request_sent': False,\n",
      "          'followers_count': 3769035,\n",
      "          'following': False,\n",
      "          'friends_count': 107,\n",
      "          'geo_enabled': True,\n",
      "          'has_extended_profile': True,\n",
      "          'id': 4196983835,\n",
      "          'id_str': '4196983835',\n",
      "          'is_translation_enabled': False,\n",
      "          'is_translator': False,\n",
      "          'lang': 'en',\n",
      "          'listed_count': 3356,\n",
      "          'location': 'MERCH↴  DM DOGS. WE WILL RATE',\n",
      "          'name': 'SpookyWeRateDogs™',\n",
      "          'notifications': False,\n",
      "          'profile_background_color': '000000',\n",
      "          'profile_background_image_url': 'http://abs.twimg.com/images/themes/theme1/bg.png',\n",
      "          'profile_background_image_url_https': 'https://abs.twimg.com/images/themes/theme1/bg.png',\n",
      "          'profile_background_tile': False,\n",
      "          'profile_banner_url': 'https://pbs.twimg.com/profile_banners/4196983835/1506888628',\n",
      "          'profile_image_url': 'http://pbs.twimg.com/profile_images/914581071265755136/2h5uFpwU_normal.jpg',\n",
      "          'profile_image_url_https': 'https://pbs.twimg.com/profile_images/914581071265755136/2h5uFpwU_normal.jpg',\n",
      "          'profile_link_color': 'F5ABB5',\n",
      "          'profile_sidebar_border_color': '000000',\n",
      "          'profile_sidebar_fill_color': '000000',\n",
      "          'profile_text_color': '000000',\n",
      "          'profile_use_background_image': False,\n",
      "          'protected': False,\n",
      "          'screen_name': 'dog_rates',\n",
      "          'statuses_count': 5749,\n",
      "          'time_zone': None,\n",
      "          'translator_type': 'none',\n",
      "          'url': 'https://t.co/N7sNNHAEXS',\n",
      "          'utc_offset': None,\n",
      "          'verified': True}}\n"
     ]
    }
   ],
   "source": [
    "pprint.pprint(dict_data)"
   ]
  },
  {
   "cell_type": "code",
   "execution_count": 14,
   "metadata": {},
   "outputs": [],
   "source": [
    "def detect_data(df, name):\n",
    "    \"\"\"\n",
    "    detect the data information about missing value, data types\n",
    "    and unique values\n",
    "    \n",
    "    Args:\n",
    "    (dataframe) df - dataframe storing the data\n",
    "    (str) name - variable name referring  the data\n",
    "    \n",
    "    Returns:\n",
    "    (None)\n",
    "    \"\"\"\n",
    "    print(\"The summary information:\\n\")\n",
    "    print(\"There are %d fiels and %d data points in the %s.\\n\" % (df.shape[1], df.shape[0], name))\n",
    "    print(\"=\" * 80)\n",
    "    \n",
    "    print(\"The missing_value information about the %s:\\n\" % name)\n",
    "    print(df.isnull().sum())\n",
    "    print(\"=\" * 80)\n",
    "\n",
    "    print(\"The unique value about every field:\\n\")\n",
    "    \n",
    "    for i in df.columns:\n",
    "        print(\"The %s field with %s dtype has unique values:\\n\" % (i, df[i].dtypes))\n",
    "        if len(df[i].unique()) > 5:\n",
    "            print(\",\\n\".join([str(df[i].unique()[element]) for element in range(5)]))\n",
    "        else:\n",
    "            print(\",\\n\".join([str(element) for element in df[i].unique()]))\n",
    "        print(\"-\" * 80 + \"\\n\")\n",
    "\n",
    "    print(\"=\" * 80)"
   ]
  },
  {
   "cell_type": "code",
   "execution_count": 15,
   "metadata": {
    "scrolled": false
   },
   "outputs": [
    {
     "name": "stdout",
     "output_type": "stream",
     "text": [
      "The summary information:\n",
      "\n",
      "There are 12 fiels and 2075 data points in the image_prediction_data.\n",
      "\n",
      "================================================================================\n",
      "The missing_value information about the image_prediction_data:\n",
      "\n",
      "tweet_id    0\n",
      "jpg_url     0\n",
      "img_num     0\n",
      "p1          0\n",
      "p1_conf     0\n",
      "p1_dog      0\n",
      "p2          0\n",
      "p2_conf     0\n",
      "p2_dog      0\n",
      "p3          0\n",
      "p3_conf     0\n",
      "p3_dog      0\n",
      "dtype: int64\n",
      "================================================================================\n",
      "The unique value about every field:\n",
      "\n",
      "The tweet_id field with int64 dtype has unique values:\n",
      "\n",
      "666020888022790149,\n",
      "666029285002620928,\n",
      "666033412701032449,\n",
      "666044226329800704,\n",
      "666049248165822465\n",
      "--------------------------------------------------------------------------------\n",
      "\n",
      "The jpg_url field with object dtype has unique values:\n",
      "\n",
      "https://pbs.twimg.com/media/CT4udn0WwAA0aMy.jpg,\n",
      "https://pbs.twimg.com/media/CT42GRgUYAA5iDo.jpg,\n",
      "https://pbs.twimg.com/media/CT4521TWwAEvMyu.jpg,\n",
      "https://pbs.twimg.com/media/CT5Dr8HUEAA-lEu.jpg,\n",
      "https://pbs.twimg.com/media/CT5IQmsXIAAKY4A.jpg\n",
      "--------------------------------------------------------------------------------\n",
      "\n",
      "The img_num field with int64 dtype has unique values:\n",
      "\n",
      "1,\n",
      "4,\n",
      "2,\n",
      "3\n",
      "--------------------------------------------------------------------------------\n",
      "\n",
      "The p1 field with object dtype has unique values:\n",
      "\n",
      "Welsh_springer_spaniel,\n",
      "redbone,\n",
      "German_shepherd,\n",
      "Rhodesian_ridgeback,\n",
      "miniature_pinscher\n",
      "--------------------------------------------------------------------------------\n",
      "\n",
      "The p1_conf field with float64 dtype has unique values:\n",
      "\n",
      "0.465074,\n",
      "0.506826,\n",
      "0.596461,\n",
      "0.408143,\n",
      "0.560311\n",
      "--------------------------------------------------------------------------------\n",
      "\n",
      "The p1_dog field with bool dtype has unique values:\n",
      "\n",
      "True,\n",
      "False\n",
      "--------------------------------------------------------------------------------\n",
      "\n",
      "The p2 field with object dtype has unique values:\n",
      "\n",
      "collie,\n",
      "miniature_pinscher,\n",
      "malinois,\n",
      "redbone,\n",
      "Rottweiler\n",
      "--------------------------------------------------------------------------------\n",
      "\n",
      "The p2_conf field with float64 dtype has unique values:\n",
      "\n",
      "0.156665,\n",
      "0.07419169999999999,\n",
      "0.13858399999999998,\n",
      "0.360687,\n",
      "0.243682\n",
      "--------------------------------------------------------------------------------\n",
      "\n",
      "The p2_dog field with bool dtype has unique values:\n",
      "\n",
      "True,\n",
      "False\n",
      "--------------------------------------------------------------------------------\n",
      "\n",
      "The p3 field with object dtype has unique values:\n",
      "\n",
      "Shetland_sheepdog,\n",
      "Rhodesian_ridgeback,\n",
      "bloodhound,\n",
      "miniature_pinscher,\n",
      "Doberman\n",
      "--------------------------------------------------------------------------------\n",
      "\n",
      "The p3_conf field with float64 dtype has unique values:\n",
      "\n",
      "0.0614285,\n",
      "0.07201,\n",
      "0.116197,\n",
      "0.222752,\n",
      "0.154629\n",
      "--------------------------------------------------------------------------------\n",
      "\n",
      "The p3_dog field with bool dtype has unique values:\n",
      "\n",
      "True,\n",
      "False\n",
      "--------------------------------------------------------------------------------\n",
      "\n",
      "================================================================================\n"
     ]
    }
   ],
   "source": [
    "detect_data(image_prediction_data, \"image_prediction_data\")"
   ]
  },
  {
   "cell_type": "code",
   "execution_count": 16,
   "metadata": {
    "scrolled": false
   },
   "outputs": [
    {
     "data": {
      "image/png": "[encoded data removed]",
      "text/plain": [
       "<Figure size 1080x864 with 1 Axes>"
      ]
     },
     "metadata": {},
     "output_type": "display_data"
    }
   ],
   "source": [
    "# plot the missing value hist plot\n",
    "x_axis = image_prediction_data.columns.get_values()\n",
    "height = image_prediction_data.count() - image_prediction_data.isnull().sum()\n",
    "\n",
    "plt.figure(figsize=(15, 12))\n",
    "plt.bar(np.arange(len(x_axis)), height, tick_label=x_axis, facecolor=\"grey\", width=.8)\n",
    "loc, labels = plt.xticks(rotation=330, fontsize=13)\n",
    "plt.xlabel(\"Field\", fontsize=16)\n",
    "\n",
    "plt.hlines(y=2075, xmin=-0.5, xmax=loc.max()+1,colors=\"r\", linestyles=\"--\", linewidth=4,label=\"Total Data Point:2075\")\n",
    "plt.legend()\n",
    "plt.title(\"Fig Unmissing Value Count About Image Prediction\", loc=\"left\", fontsize=20)\n",
    "plt.show()"
   ]
  },
  {
   "cell_type": "code",
   "execution_count": 17,
   "metadata": {
    "scrolled": false
   },
   "outputs": [
    {
     "name": "stdout",
     "output_type": "stream",
     "text": [
      "The summary information:\n",
      "\n",
      "There are 17 fiels and 2356 data points in the twitter_archive_data.\n",
      "\n",
      "================================================================================\n",
      "The missing_value information about the twitter_archive_data:\n",
      "\n",
      "tweet_id                         0\n",
      "in_reply_to_status_id         2278\n",
      "in_reply_to_user_id           2278\n",
      "timestamp                        0\n",
      "source                           0\n",
      "text                             0\n",
      "retweeted_status_id           2175\n",
      "retweeted_status_user_id      2175\n",
      "retweeted_status_timestamp    2175\n",
      "expanded_urls                   59\n",
      "rating_numerator                 0\n",
      "rating_denominator               0\n",
      "name                             0\n",
      "doggo                            0\n",
      "floofer                          0\n",
      "pupper                           0\n",
      "puppo                            0\n",
      "dtype: int64\n",
      "================================================================================\n",
      "The unique value about every field:\n",
      "\n",
      "The tweet_id field with int64 dtype has unique values:\n",
      "\n",
      "892420643555336193,\n",
      "892177421306343426,\n",
      "891815181378084864,\n",
      "891689557279858688,\n",
      "891327558926688256\n",
      "--------------------------------------------------------------------------------\n",
      "\n",
      "The in_reply_to_status_id field with float64 dtype has unique values:\n",
      "\n",
      "nan,\n",
      "8.862663570751283e+17,\n",
      "8.816070373140521e+17,\n",
      "8.795538273341727e+17,\n",
      "8.707262027424932e+17\n",
      "--------------------------------------------------------------------------------\n",
      "\n",
      "The in_reply_to_user_id field with float64 dtype has unique values:\n",
      "\n",
      "nan,\n",
      "2281181600.0,\n",
      "47384430.0,\n",
      "3105440746.0,\n",
      "16487760.0\n",
      "--------------------------------------------------------------------------------\n",
      "\n",
      "The timestamp field with object dtype has unique values:\n",
      "\n",
      "2017-08-01 16:23:56 +0000,\n",
      "2017-08-01 00:17:27 +0000,\n",
      "2017-07-31 00:18:03 +0000,\n",
      "2017-07-30 15:58:51 +0000,\n",
      "2017-07-29 16:00:24 +0000\n",
      "--------------------------------------------------------------------------------\n",
      "\n",
      "The source field with object dtype has unique values:\n",
      "\n",
      "<a href=\"http://twitter.com/download/iphone\" rel=\"nofollow\">Twitter for iPhone</a>,\n",
      "<a href=\"http://twitter.com\" rel=\"nofollow\">Twitter Web Client</a>,\n",
      "<a href=\"http://vine.co\" rel=\"nofollow\">Vine - Make a Scene</a>,\n",
      "<a href=\"https://about.twitter.com/products/tweetdeck\" rel=\"nofollow\">TweetDeck</a>\n",
      "--------------------------------------------------------------------------------\n",
      "\n",
      "The text field with object dtype has unique values:\n",
      "\n",
      "This is Phineas. He's a mystical boy. Only ever appears in the hole of a donut. 13/10 https://t.co/MgUWQ76dJU,\n",
      "This is Tilly. She's just checking pup on you. Hopes you're doing ok. If not, she's available for pats, snugs, boops, the whole bit. 13/10 https://t.co/0Xxu71qeIV,\n",
      "This is Archie. He is a rare Norwegian Pouncing Corgo. Lives in the tall grass. You never know when one may strike. 12/10 https://t.co/wUnZnhtVJB,\n",
      "This is Darla. She commenced a snooze mid meal. 13/10 happens to the best of us https://t.co/tD36da7qLQ,\n",
      "This is Franklin. He would like you to stop calling him \"cute.\" He is a very fierce shark and should be respected as such. 12/10 #BarkWeek https://t.co/AtUZn91f7f\n",
      "--------------------------------------------------------------------------------\n",
      "\n",
      "The retweeted_status_id field with float64 dtype has unique values:\n",
      "\n",
      "nan,\n",
      "8.874739571039519e+17,\n",
      "8.860537344211026e+17,\n",
      "8.305833205850685e+17,\n",
      "8.780576130401157e+17\n",
      "--------------------------------------------------------------------------------\n",
      "\n",
      "The retweeted_status_user_id field with float64 dtype has unique values:\n",
      "\n",
      "nan,\n",
      "4196983835.0,\n",
      "19607400.0,\n",
      "512804507.0,\n",
      "154767397.0\n",
      "--------------------------------------------------------------------------------\n",
      "\n",
      "The retweeted_status_timestamp field with object dtype has unique values:\n",
      "\n",
      "nan,\n",
      "2017-07-19 00:47:34 +0000,\n",
      "2017-07-15 02:44:07 +0000,\n",
      "2017-02-12 01:04:29 +0000,\n",
      "2017-06-23 01:10:23 +0000\n",
      "--------------------------------------------------------------------------------\n",
      "\n",
      "The expanded_urls field with object dtype has unique values:\n",
      "\n",
      "https://twitter.com/dog_rates/status/892420643555336193/photo/1,\n",
      "https://twitter.com/dog_rates/status/892177421306343426/photo/1,\n",
      "https://twitter.com/dog_rates/status/891815181378084864/photo/1,\n",
      "https://twitter.com/dog_rates/status/891689557279858688/photo/1,\n",
      "https://twitter.com/dog_rates/status/891327558926688256/photo/1,https://twitter.com/dog_rates/status/891327558926688256/photo/1\n",
      "--------------------------------------------------------------------------------\n",
      "\n",
      "The rating_numerator field with int64 dtype has unique values:\n",
      "\n",
      "13,\n",
      "12,\n",
      "14,\n",
      "5,\n",
      "17\n",
      "--------------------------------------------------------------------------------\n",
      "\n",
      "The rating_denominator field with int64 dtype has unique values:\n",
      "\n",
      "10,\n",
      "0,\n",
      "15,\n",
      "70,\n",
      "7\n",
      "--------------------------------------------------------------------------------\n",
      "\n",
      "The name field with object dtype has unique values:\n",
      "\n",
      "Phineas,\n",
      "Tilly,\n",
      "Archie,\n",
      "Darla,\n",
      "Franklin\n",
      "--------------------------------------------------------------------------------\n",
      "\n",
      "The doggo field with object dtype has unique values:\n",
      "\n",
      "None,\n",
      "doggo\n",
      "--------------------------------------------------------------------------------\n",
      "\n",
      "The floofer field with object dtype has unique values:\n",
      "\n",
      "None,\n",
      "floofer\n",
      "--------------------------------------------------------------------------------\n",
      "\n",
      "The pupper field with object dtype has unique values:\n",
      "\n",
      "None,\n",
      "pupper\n",
      "--------------------------------------------------------------------------------\n",
      "\n",
      "The puppo field with object dtype has unique values:\n",
      "\n",
      "None,\n",
      "puppo\n",
      "--------------------------------------------------------------------------------\n",
      "\n",
      "================================================================================\n"
     ]
    }
   ],
   "source": [
    "detect_data(twitter_archive_data, \"twitter_archive_data\")"
   ]
  },
  {
   "cell_type": "code",
   "execution_count": 18,
   "metadata": {},
   "outputs": [
    {
     "data": {
      "image/png": "[encoded data removed]",
      "text/plain": [
       "<Figure size 1440x1224 with 1 Axes>"
      ]
     },
     "metadata": {},
     "output_type": "display_data"
    }
   ],
   "source": [
    "# plot the missing value hist plot\n",
    "x_axis = twitter_archive_data.columns.get_values()\n",
    "height = len(twitter_archive_data) - twitter_archive_data.isnull().sum()\n",
    "hist_data = pd.DataFrame({\"field\": height.index.values, \"count\":height.values}, columns=[\"field\", \"count\"])\n",
    "\n",
    "hist_data.plot(x=\"field\", kind=\"bar\", figsize=(20, 17), rot=30, color=\"grey\") #, yticks=np.arange(height.min()-500, height.max()+200, 300))\n",
    "plt.xlabel(\"Field\", fontsize=16)\n",
    "loc, labels = plt.xticks( fontsize=10)\n",
    "plt.ylabel(\"Total Unmissing Value Count\", fontsize=15)\n",
    "plt.yticks(np.arange(0, height.max()+200, 100), fontsize=14)\n",
    "plt.title(\"Fig Unmissing Value Count About Twitter Archive Enhanced\", loc=\"left\", fontsize=20)\n",
    "\n",
    "\n",
    "for x, y, s in zip(loc, [i + 10 for i in height], [str(i) for i in height]):\n",
    "    plt.text(x-0.2, y, s, fontsize=12)\n",
    "    \n",
    "plt.hlines(y=2356, xmin=-0.5, xmax=loc.max()+1,colors=\"r\",\n",
    "           linestyles=\"--\", linewidth=4,label=\"Total Data Point:2356\")\n",
    "\n",
    "plt.legend(loc=(0.35, 0.8), fontsize=\"large\")\n",
    "plt.show()"
   ]
  },
  {
   "cell_type": "code",
   "execution_count": 19,
   "metadata": {
    "scrolled": false
   },
   "outputs": [
    {
     "name": "stdout",
     "output_type": "stream",
     "text": [
      "The summary information:\n",
      "\n",
      "There are 10 fiels and 2352 data points in the tweet_data.\n",
      "\n",
      "================================================================================\n",
      "The missing_value information about the tweet_data:\n",
      "\n",
      "id                          0\n",
      "created_at                  0\n",
      "full_text                   0\n",
      "media_url                 279\n",
      "favorite_count              0\n",
      "retweet_count               0\n",
      "in_reply_to_status_id    2274\n",
      "in_reply_to_user_id      2274\n",
      "expanded_url              279\n",
      "source                      0\n",
      "dtype: int64\n",
      "================================================================================\n",
      "The unique value about every field:\n",
      "\n",
      "The id field with int64 dtype has unique values:\n",
      "\n",
      "892420643555336193,\n",
      "892177421306343426,\n",
      "891815181378084864,\n",
      "891689557279858688,\n",
      "891327558926688256\n",
      "--------------------------------------------------------------------------------\n",
      "\n",
      "The created_at field with object dtype has unique values:\n",
      "\n",
      "Tue Aug 01 16:23:56 +0000 2017,\n",
      "Tue Aug 01 00:17:27 +0000 2017,\n",
      "Mon Jul 31 00:18:03 +0000 2017,\n",
      "Sun Jul 30 15:58:51 +0000 2017,\n",
      "Sat Jul 29 16:00:24 +0000 2017\n",
      "--------------------------------------------------------------------------------\n",
      "\n",
      "The full_text field with object dtype has unique values:\n",
      "\n",
      "This is Phineas. He's a mystical boy. Only ever appears in the hole of a donut. 13/10 https://t.co/MgUWQ76dJU,\n",
      "This is Tilly. She's just checking pup on you. Hopes you're doing ok. If not, she's available for pats, snugs, boops, the whole bit. 13/10 https://t.co/0Xxu71qeIV,\n",
      "This is Archie. He is a rare Norwegian Pouncing Corgo. Lives in the tall grass. You never know when one may strike. 12/10 https://t.co/wUnZnhtVJB,\n",
      "This is Darla. She commenced a snooze mid meal. 13/10 happens to the best of us https://t.co/tD36da7qLQ,\n",
      "This is Franklin. He would like you to stop calling him \"cute.\" He is a very fierce shark and should be respected as such. 12/10 #BarkWeek https://t.co/AtUZn91f7f\n",
      "--------------------------------------------------------------------------------\n",
      "\n",
      "The media_url field with object dtype has unique values:\n",
      "\n",
      "https://pbs.twimg.com/media/DGKD1-bXoAAIAUK.jpg,\n",
      "https://pbs.twimg.com/media/DGGmoV4XsAAUL6n.jpg,\n",
      "https://pbs.twimg.com/media/DGBdLU1WsAANxJ9.jpg,\n",
      "https://pbs.twimg.com/media/DF_q7IAWsAEuuN8.jpg,\n",
      "https://pbs.twimg.com/media/DF6hr6AVYAAZ8G8.jpg\n",
      "--------------------------------------------------------------------------------\n",
      "\n",
      "The favorite_count field with int64 dtype has unique values:\n",
      "\n",
      "39492,\n",
      "33786,\n",
      "25445,\n",
      "42863,\n",
      "41016\n",
      "--------------------------------------------------------------------------------\n",
      "\n",
      "The retweet_count field with int64 dtype has unique values:\n",
      "\n",
      "8842,\n",
      "6480,\n",
      "4301,\n",
      "8925,\n",
      "9721\n",
      "--------------------------------------------------------------------------------\n",
      "\n",
      "The in_reply_to_status_id field with object dtype has unique values:\n",
      "\n",
      "None,\n",
      "886266357075128321,\n",
      "881607037314052101,\n",
      "879553827334172678,\n",
      "870726202742493184\n",
      "--------------------------------------------------------------------------------\n",
      "\n",
      "The in_reply_to_user_id field with object dtype has unique values:\n",
      "\n",
      "None,\n",
      "2281181600,\n",
      "47384430,\n",
      "3105440746,\n",
      "16487760\n",
      "--------------------------------------------------------------------------------\n",
      "\n",
      "The expanded_url field with object dtype has unique values:\n",
      "\n",
      "https://twitter.com/dog_rates/status/892420643555336193/photo/1,\n",
      "https://twitter.com/dog_rates/status/892177421306343426/photo/1,\n",
      "https://twitter.com/dog_rates/status/891815181378084864/photo/1,\n",
      "https://twitter.com/dog_rates/status/891689557279858688/photo/1,\n",
      "https://twitter.com/dog_rates/status/891327558926688256/photo/1\n",
      "--------------------------------------------------------------------------------\n",
      "\n",
      "The source field with object dtype has unique values:\n",
      "\n",
      "<a href=\"http://twitter.com/download/iphone\" rel=\"nofollow\">Twitter for iPhone</a>,\n",
      "<a href=\"http://twitter.com\" rel=\"nofollow\">Twitter Web Client</a>,\n",
      "<a href=\"http://vine.co\" rel=\"nofollow\">Vine - Make a Scene</a>,\n",
      "<a href=\"https://about.twitter.com/products/tweetdeck\" rel=\"nofollow\">TweetDeck</a>\n",
      "--------------------------------------------------------------------------------\n",
      "\n",
      "================================================================================\n"
     ]
    }
   ],
   "source": [
    "detect_data(tweet_data, \"tweet_data\")"
   ]
  },
  {
   "cell_type": "code",
   "execution_count": 20,
   "metadata": {},
   "outputs": [
    {
     "data": {
      "image/png": "[encoded data removed]",
      "text/plain": [
       "<Figure size 1440x936 with 1 Axes>"
      ]
     },
     "metadata": {},
     "output_type": "display_data"
    }
   ],
   "source": [
    "# plot the missing value hist plot\n",
    "x_axis = tweet_data.columns.get_values()\n",
    "height = len(tweet_data) - tweet_data.isnull().sum()\n",
    "hist_data = pd.DataFrame({\"field\": height.index.values, \"count\":height.values}, columns=[\"field\", \"count\"])\n",
    "\n",
    "hist_data.plot(x=\"field\", kind=\"bar\", figsize=(20, 13), rot=30, color=\"grey\", legend=\"\") #, yticks=np.arange(height.min()-500, height.max()+200, 300))\n",
    "plt.xlabel(\"Field\", fontsize=16)\n",
    "loc, label = plt.xticks( fontsize=10)\n",
    "plt.ylabel(\"Total Unmissing Value Count\", fontsize=15)\n",
    "plt.yticks()\n",
    "plt.xticks(fontsize=15)\n",
    "\n",
    "for x, y, s in zip(loc, [i + 10 for i in height], [str(i) for i in height]):\n",
    "    plt.text(x-0.15, y, s, fontsize=15)\n",
    "\n",
    "plt.title(\"Fig Unmissing Value Count About Tweet Data\", loc=\"left\", fontsize=20)\n",
    "plt.hlines(y=2352, xmin=-0.5, xmax=loc.max()+1,colors=\"r\", linestyles=\"--\", linewidth=4,label=\"Total Data Point:2352\")\n",
    "plt.legend(loc=(0.59,0.8), fontsize=\"xx-large\")\n",
    "plt.show()"
   ]
  },
  {
   "cell_type": "markdown",
   "metadata": {},
   "source": [
    "### 2. 评估数据\n",
    "#### 2.2 对数据内容及数据数据类型评估\n",
    "1. 对 `image_prediction_data` 进行数据内容和数据类型探索，该数据集有 `2075` 个数据且有 \t`12` 个 `field`；另外发存在数据类型不合适的情况，该数据集没有缺失值的情况。\n",
    "\n",
    "2. 对 `twitter_archive_data` 进行数据内容和数据类型探索，该数据集中有 `2356` 个数据且有 `17` 个 `field`；在数据类型不合适的情况以及该数据集某些 `field`  存在缺失值的情况—— `in_reply_to_status_id`, `in_reply_to_user_id`, `retweeted_status_id`, `retweeted_status_user_id`, `retweeted_status_timestamp` 数据缺失严重；另外在 `expanded_urls` 中存在部分数据缺失\n",
    "\n",
    "3. 对 `tweet_data` 进行数据内容和数据类型探索，该数据集有 `10` 个 `field` 以及 `2352` 个数据点。该数据的主要问题，还是是数据类型不符合 `id`, `created_at`, `in_reply_to_status_id`, `in_reply_to_user_id`, `source`；一个行列单元格包含了多个信息， `full_text` 包括了 `tweet` 信息、评分分数以及链接。"
   ]
  },
  {
   "cell_type": "markdown",
   "metadata": {},
   "source": [
    "#### 2.3 总体评估结论：\n",
    "**质量**\n",
    "\n",
    "1. `image_prediction_data` 数据集\n",
    "\n",
    "\t* `tweet_id` 是 `int64` 的整数类型，实际应当保存为 `object` 类型\n",
    "\t* `p1` 数据中首字母存在大写和小写混用的情况\n",
    "\t* `p2` 数据中首字母存在大写和小写混用的情况\n",
    "\t* `p3` 数据中首字母存在大写和小写混用的情况\n",
    "\t* `p1_conf` 是比例数据，可以确认需要保留的小数点位数\n",
    "\t* `p2_conf` 是比例数据，可以确认需要保留的小数点位数\n",
    "\t* `p3_conf` 是比例数据，可以确认需要保留的小数点位数\n",
    "\n",
    "2. `twitter_archive_data`\t数据集\n",
    "\t\n",
    "\t* `tweet_id` 是 `int64` 的整数类型，实际应当保存为 `object` 类型\n",
    "\t* `in_reply_to_status_id` 是 `float64` 的整数类型，实际应当保存为 `object` 类型\n",
    "\t* `in_reply_to_user_id` 是 `float64` 的整数类型，实际应当保存为 `object` 类型\n",
    "\t* `timestamp` 是 `object` 的对象数据(字符串模式)，实际应当保存为 `datetime` 类型\n",
    "\t* `retweeted_status_id` 是 `float64` 的数值类型数据，实际应当是 `object` 类型\n",
    "\t* `retweeted_status_user_id` 是 `float64` 的数值类型数据，实际应当是 `object` 类型\n",
    "\t* `retweeted_status_timestamp` 是 `object` 的对象数据(字符串模式)，实际应当保存为 `datetime` 类型\n",
    "\t* 存在缺失值: 缺少相关信息，不合适进行处理\n",
    "    * `text` 存在以空字符串保存缺失值的\n",
    "\n",
    "3. `tweet_data`\t的数据集\n",
    "\n",
    "\t* `id` 是 `int64` 的整数类型，实际应当保存为 `object` 类型\n",
    "\t* `created_at` 是 `object` 的对象数据(字符串模式)，实际应当保存为 `datetime` 类型\n",
    "    * `media_url` 中以 `None` 来保存缺失数据的情况\n",
    "    * `in_reply_to_status_id` 中以 `None` 来保存缺失数据的情况\n",
    "    * `in_reply_to_user_id` 中以 `None` 来保存缺失数据的情况\n",
    "\n",
    "\n",
    "**整洁度**\n",
    "\n",
    "1. `image_prediction_data` 数据集\n",
    "\n",
    "\t目前尚未发现需要调整的结构问题\n",
    "\t\n",
    "2. `twitter_archive_data`\t数据集\n",
    "\n",
    "\t* `source` 中保存了 `HTML` 标签类型数据\n",
    "\t* `text` 中保存了评分数据，`tweet` 文本信息以及链接数据\n",
    "\t* `expanded_urls` 存储了重复数据值\n",
    "\t* `field` 拆分为了多个，例如`doggo`,`floofer`, `pupper`, `puppo`\n",
    "\n",
    "3. `tweet_data`\t的数据集\n",
    "\n",
    "\t* `full_text` 中保存了评分数据，`tweet` 文本信息以及链接数据\n",
    "\t* `source` 中保存了 `HTML` 标签类型数据"
   ]
  },
  {
   "cell_type": "code",
   "execution_count": 21,
   "metadata": {},
   "outputs": [],
   "source": [
    "# create the data copy\n",
    "image_data_copy = copy.deepcopy(image_prediction_data)\n",
    "twitter_archive_data_copy = copy.deepcopy(twitter_archive_data)\n",
    "tweet_data_copy = copy.deepcopy(tweet_data)"
   ]
  },
  {
   "cell_type": "code",
   "execution_count": 22,
   "metadata": {},
   "outputs": [
    {
     "name": "stdout",
     "output_type": "stream",
     "text": [
      "Before wrangling data about the image data:\n",
      "\n",
      "tweet_id      int64\n",
      "jpg_url      object\n",
      "img_num       int64\n",
      "p1           object\n",
      "p1_conf     float64\n",
      "p1_dog         bool\n",
      "p2           object\n",
      "p2_conf     float64\n",
      "p2_dog         bool\n",
      "p3           object\n",
      "p3_conf     float64\n",
      "p3_dog         bool\n",
      "dtype: object\n"
     ]
    }
   ],
   "source": [
    "print(\"Before wrangling data about the image data:\\n\")\n",
    "print(image_data_copy.dtypes)"
   ]
  },
  {
   "cell_type": "code",
   "execution_count": 23,
   "metadata": {},
   "outputs": [],
   "source": [
    "# `tweet_id` 是 `int64` 的整数类型，实际应当保存为 `object` 类型\n",
    "image_data_copy[\"tweet_id\"] = image_data_copy[\"tweet_id\"].apply(str)"
   ]
  },
  {
   "cell_type": "code",
   "execution_count": 24,
   "metadata": {},
   "outputs": [],
   "source": [
    "# `p1` 数据中首字母存在大写和小写混用的情况\n",
    "# `p2` 数据中首字母存在大写和小写混用的情况\n",
    "# `p3` 数据中首字母存在大写和小写混用的情况\n",
    "image_data_copy[[\"p1\", \"p2\", \"p3\"]] = image_data_copy[[\"p1\", \"p2\", \"p3\"]].applymap(lambda x: x.title())"
   ]
  },
  {
   "cell_type": "code",
   "execution_count": 25,
   "metadata": {},
   "outputs": [],
   "source": [
    "# `p1_conf` 是比例数据，可以确认需要保留的小数点位数\n",
    "# `p2_conf` 是比例数据，可以确认需要保留的小数点位数\n",
    "# `p3_conf` 是比例数据，可以确认需要保留的小数点位数\n",
    "image_data_copy[[\"p1_conf\", \"p2_conf\", \"p3_conf\"]] = image_data_copy[[\"p1_conf\", \"p2_conf\", \"p3_conf\"]].applymap(lambda x: round(x, 4))"
   ]
  },
  {
   "cell_type": "code",
   "execution_count": 26,
   "metadata": {},
   "outputs": [
    {
     "name": "stdout",
     "output_type": "stream",
     "text": [
      "After wrangling data about the image data:\n",
      "\n",
      "tweet_id     object\n",
      "jpg_url      object\n",
      "img_num       int64\n",
      "p1           object\n",
      "p1_conf     float64\n",
      "p1_dog         bool\n",
      "p2           object\n",
      "p2_conf     float64\n",
      "p2_dog         bool\n",
      "p3           object\n",
      "p3_conf     float64\n",
      "p3_dog         bool\n",
      "dtype: object\n"
     ]
    }
   ],
   "source": [
    "print(\"After wrangling data about the image data:\\n\")\n",
    "print(image_data_copy.dtypes)"
   ]
  },
  {
   "cell_type": "code",
   "execution_count": 27,
   "metadata": {},
   "outputs": [
    {
     "name": "stdout",
     "output_type": "stream",
     "text": [
      "Before wrangling data about the twitter archive data:\n",
      "\n",
      "tweet_id                        int64\n",
      "in_reply_to_status_id         float64\n",
      "in_reply_to_user_id           float64\n",
      "timestamp                      object\n",
      "source                         object\n",
      "text                           object\n",
      "retweeted_status_id           float64\n",
      "retweeted_status_user_id      float64\n",
      "retweeted_status_timestamp     object\n",
      "expanded_urls                  object\n",
      "rating_numerator                int64\n",
      "rating_denominator              int64\n",
      "name                           object\n",
      "doggo                          object\n",
      "floofer                        object\n",
      "pupper                         object\n",
      "puppo                          object\n",
      "dtype: object\n"
     ]
    }
   ],
   "source": [
    "print(\"Before wrangling data about the twitter archive data:\\n\")\n",
    "print(twitter_archive_data_copy.dtypes)"
   ]
  },
  {
   "cell_type": "code",
   "execution_count": 28,
   "metadata": {},
   "outputs": [],
   "source": [
    "# `tweet_id` 是 `int64` 的整数类型，实际应当保存为 `object` 类型\n",
    "twitter_archive_data_copy[\"tweet_id\"] = twitter_archive_data_copy[\"tweet_id\"].astype(str)"
   ]
  },
  {
   "cell_type": "code",
   "execution_count": 29,
   "metadata": {},
   "outputs": [],
   "source": [
    "# `in_reply_to_status_id` 是 `float64` 的整数类型，实际应当保存为 `object` 类型\n",
    "# `in_reply_to_user_id` 是 `float64` 的整数类型，实际应当保存为 `object` 类型\n",
    "# `retweeted_status_id` 是 `float64` 的数值类型数据，实际应当是 `object` 类型\n",
    "# `retweeted_status_user_id` 是 `float64` 的数值类型数据，实际应当是 `object` 类型\n",
    "twitter_archive_data_copy[[\"in_reply_to_status_id\", \"in_reply_to_user_id\", \"retweeted_status_id\", \"retweeted_status_user_id\"]] = \\\n",
    "    twitter_archive_data_copy[[\"in_reply_to_status_id\", \"in_reply_to_user_id\", \"retweeted_status_id\", \"retweeted_status_user_id\"]].applymap(\n",
    "    lambda x: x if np.isnan(x) else str(x))\n"
   ]
  },
  {
   "cell_type": "code",
   "execution_count": 30,
   "metadata": {},
   "outputs": [],
   "source": [
    "# `timestamp` 是 `object` 的对象数据(字符串模式)，实际应当保存为 `datetime` 类型\n",
    "# `retweeted_status_timestamp` 是 `object` 的对象数据(字符串模式)，实际应当保存为 `datetime` 类型\n",
    "twitter_archive_data_copy[\"timestamp\"] = twitter_archive_data_copy[\"timestamp\"].apply(pd.Timestamp)\n",
    "twitter_archive_data_copy[\"retweeted_status_timestamp\"] = twitter_archive_data_copy[\"retweeted_status_timestamp\"].apply(pd.Timestamp)"
   ]
  },
  {
   "cell_type": "code",
   "execution_count": 31,
   "metadata": {},
   "outputs": [],
   "source": [
    "def html_content(tag):\n",
    "    \"\"\"\n",
    "    get the data from the HTML tag. Return the content of the tag\n",
    "    \n",
    "    Args:\n",
    "    (str) tag - the HTML tag\n",
    "    \n",
    "    Returns:\n",
    "    (str) result - the content of the HTML tag\n",
    "    \"\"\" \n",
    "    soup = BeautifulSoup(tag, \"lxml\")\n",
    "    \n",
    "    result = soup.get_text()\n",
    "    \n",
    "    return result"
   ]
  },
  {
   "cell_type": "code",
   "execution_count": 32,
   "metadata": {},
   "outputs": [],
   "source": [
    "# `source` 中保存了 `HTML` 标签类型数据\n",
    "twitter_archive_data_copy[\"source\"] = twitter_archive_data_copy[\"source\"].apply(html_content)\n",
    "\n",
    "source_dict = {\"Twitter for iPhone\":\"iphone\", \n",
    "               \"Twitter Web Client\": \"web\", \n",
    "               \"Vine - Make a Scene\": \"vine\",\n",
    "               \"TweetDeck\": \"deck\"}\n",
    "\n",
    "twitter_archive_data_copy[\"source\"] = twitter_archive_data_copy[\"source\"].map(source_dict)"
   ]
  },
  {
   "cell_type": "code",
   "execution_count": 33,
   "metadata": {},
   "outputs": [],
   "source": [
    "def text_split(text, tweet_text_option=False, rating_numerator_option=False, rating_denominator_option=False):\n",
    "    \"\"\"\n",
    "    get the rate score from the text. Return the content of the tag\n",
    "    \n",
    "    Args:\n",
    "    (str) text - the tweet text\n",
    "    \n",
    "    Returns:\n",
    "    (tuple) result - the tuple contains the tweet text without the \n",
    "    rate score, rate scores\n",
    "    \"\"\" \n",
    "    if not text:\n",
    "        return text\n",
    "    \n",
    "    pattern = re.compile(\"\\s{0,1}(\\d{1,})/(\\d{0,3}).{0,}|\\s{.*\\w\\s{0,1}(https://.*\\w){0,1}\")\n",
    "\n",
    "    match_pattern = re.search(pattern, text)\n",
    "    \n",
    "    # regex the text\n",
    "    if match_pattern:\n",
    "        rating_numerator = int(match_pattern.group(1))\n",
    "        rating_denominator = int(match_pattern.group(2))\n",
    "\n",
    "        tweet_text = re.sub(pattern, \"\", text).strip()\n",
    "    else:\n",
    "        rating_numerator = np.nan\n",
    "        rating_denominator = np.nan\n",
    "        tweet_text = text\n",
    "    \n",
    "    # return the result\n",
    "    if tweet_text_option:\n",
    "        return tweet_text\n",
    "\n",
    "    if rating_denominator_option:\n",
    "        return rating_denominator\n",
    "\n",
    "    if rating_numerator_option:\n",
    "        return rating_numerator"
   ]
  },
  {
   "cell_type": "code",
   "execution_count": 34,
   "metadata": {},
   "outputs": [],
   "source": [
    "# `text` 中保存了评分数据，`tweet` 文本信息以及链接数据\n",
    "twitter_archive_data_copy[\"rating_denominator_1\"] = twitter_archive_data_copy[\"text\"].apply(lambda x: text_split(x, rating_denominator_option=True))\n",
    "twitter_archive_data_copy[\"rating_numerator_1\"] = twitter_archive_data_copy[\"text\"].apply(lambda x: text_split(x, rating_numerator_option=True))\n",
    "twitter_archive_data_copy[\"text\"] = twitter_archive_data_copy[\"text\"].apply(lambda x: text_split(x, tweet_text_option=True))\n",
    "\n",
    "twitter_archive_data_copy[\"text\"] = twitter_archive_data_copy[\"text\"].apply(lambda x: np.NaN if x == \"\" else x)"
   ]
  },
  {
   "cell_type": "code",
   "execution_count": 35,
   "metadata": {},
   "outputs": [
    {
     "name": "stdout",
     "output_type": "stream",
     "text": [
      "The non_difference between the archive data and the extract data about the rating score:\n",
      "\n",
      "The non_difference about the rating denominator is 2356\n",
      "The non_difference about the rating numerator is 2356\n"
     ]
    }
   ],
   "source": [
    "# 验证提取到的 rating score 数据\n",
    "print(\"The non_difference between the archive data and the extract data about the rating score:\\n\")\n",
    "print(\"The non_difference about the rating denominator is %d\" % \\\n",
    "      sum(twitter_archive_data_copy[\"rating_denominator\"] == twitter_archive_data_copy[\"rating_denominator_1\"]))\n",
    "print(\"The non_difference about the rating numerator is %d\" % \\\n",
    "      sum(twitter_archive_data_copy[\"rating_numerator\"] == twitter_archive_data_copy[\"rating_numerator_1\"]))"
   ]
  },
  {
   "cell_type": "code",
   "execution_count": 36,
   "metadata": {},
   "outputs": [],
   "source": [
    "# `expanded_urls` 存储了重复数据值\n",
    "url = []\n",
    "for head, value, tail in zip(np.repeat(\"https://twitter.com/dog_rates/status/\", len(twitter_archive_data_copy)), \n",
    "                            twitter_archive_data_copy[\"tweet_id\"], np.repeat(\"/photo/1\", len(twitter_archive_data_copy))):\n",
    "    url.append(head+str(value)+tail)\n",
    "\n",
    "twitter_archive_data_copy[\"expanded_urls\"] = pd.Series(url)"
   ]
  },
  {
   "cell_type": "code",
   "execution_count": 37,
   "metadata": {},
   "outputs": [],
   "source": [
    "#  `field` 拆分为了多个，例如`doggo`,`floofer`, `pupper`, `puppo`\n",
    "dog_type = []\n",
    "for doggo, floofer, pupper, puppo in zip(twitter_archive_data_copy[\"doggo\"], \n",
    "                                         twitter_archive_data_copy[\"floofer\"],\n",
    "                                         twitter_archive_data_copy[\"pupper\"],\n",
    "                                         twitter_archive_data_copy[\"puppo\"]):\n",
    "    dog_type.append(doggo +  floofer + pupper + puppo)"
   ]
  },
  {
   "cell_type": "code",
   "execution_count": 38,
   "metadata": {},
   "outputs": [],
   "source": [
    "twitter_archive_data_copy[\"dog_type\"] = pd.Series(dog_type)\n",
    "\n",
    "twitter_archive_data_copy[\"dog_type\"] = \\\n",
    "    twitter_archive_data_copy[\"dog_type\"].apply(lambda x: x.replace(\"None\", \"\"))\n",
    "    \n",
    "twitter_archive_data_copy[\"dog_type\"] = \\\n",
    "    twitter_archive_data_copy[\"dog_type\"].apply(lambda x: np.NaN if x == \"\" else x)    "
   ]
  },
  {
   "cell_type": "code",
   "execution_count": 39,
   "metadata": {},
   "outputs": [
    {
     "data": {
      "text/plain": [
       "tweet_id                                   object\n",
       "in_reply_to_status_id                      object\n",
       "in_reply_to_user_id                        object\n",
       "timestamp                     datetime64[ns, UTC]\n",
       "source                                     object\n",
       "text                                       object\n",
       "retweeted_status_id                        object\n",
       "retweeted_status_user_id                   object\n",
       "retweeted_status_timestamp    datetime64[ns, UTC]\n",
       "expanded_urls                              object\n",
       "rating_numerator                            int64\n",
       "rating_denominator                          int64\n",
       "name                                       object\n",
       "doggo                                      object\n",
       "floofer                                    object\n",
       "pupper                                     object\n",
       "puppo                                      object\n",
       "rating_denominator_1                        int64\n",
       "rating_numerator_1                          int64\n",
       "dog_type                                   object\n",
       "dtype: object"
      ]
     },
     "execution_count": 39,
     "metadata": {},
     "output_type": "execute_result"
    }
   ],
   "source": [
    "twitter_archive_data_copy.dtypes"
   ]
  },
  {
   "cell_type": "code",
   "execution_count": 40,
   "metadata": {},
   "outputs": [],
   "source": [
    "# clean the duplicate data\n",
    "\n",
    "twitter_archive_data_copy.drop([\"doggo\", \"floofer\", \"pupper\", \"puppo\", \"rating_denominator_1\", \"rating_numerator_1\"], axis=1, inplace=True)"
   ]
  },
  {
   "cell_type": "code",
   "execution_count": 41,
   "metadata": {
    "scrolled": true
   },
   "outputs": [
    {
     "name": "stdout",
     "output_type": "stream",
     "text": [
      "After wrangling data about the twitter archive data:\n",
      "\n",
      "tweet_id                                   object\n",
      "in_reply_to_status_id                      object\n",
      "in_reply_to_user_id                        object\n",
      "timestamp                     datetime64[ns, UTC]\n",
      "source                                     object\n",
      "text                                       object\n",
      "retweeted_status_id                        object\n",
      "retweeted_status_user_id                   object\n",
      "retweeted_status_timestamp    datetime64[ns, UTC]\n",
      "expanded_urls                              object\n",
      "rating_numerator                            int64\n",
      "rating_denominator                          int64\n",
      "name                                       object\n",
      "dog_type                                   object\n",
      "dtype: object\n"
     ]
    }
   ],
   "source": [
    "print(\"After wrangling data about the twitter archive data:\\n\")\n",
    "print(twitter_archive_data_copy.dtypes)"
   ]
  },
  {
   "cell_type": "code",
   "execution_count": 42,
   "metadata": {},
   "outputs": [
    {
     "name": "stdout",
     "output_type": "stream",
     "text": [
      "Before wrangling data about the tweet data:\n",
      "\n",
      "id                        int64\n",
      "created_at               object\n",
      "full_text                object\n",
      "media_url                object\n",
      "favorite_count            int64\n",
      "retweet_count             int64\n",
      "in_reply_to_status_id    object\n",
      "in_reply_to_user_id      object\n",
      "expanded_url             object\n",
      "source                   object\n",
      "dtype: object\n"
     ]
    }
   ],
   "source": [
    "print(\"Before wrangling data about the tweet data:\\n\")\n",
    "print(tweet_data_copy.dtypes)"
   ]
  },
  {
   "cell_type": "code",
   "execution_count": 43,
   "metadata": {},
   "outputs": [],
   "source": [
    "# `id` 是 `int64` 的整数类型，实际应当保存为 `object` 类型\n",
    "tweet_data_copy[\"id\"] = tweet_data_copy[\"id\"].astype(str)"
   ]
  },
  {
   "cell_type": "code",
   "execution_count": 44,
   "metadata": {},
   "outputs": [],
   "source": [
    "#  `created_at` 是 `object` 的对象数据(字符串模式)，实际应当保存为 `datetime` 类型\n",
    "tweet_data_copy[\"created_at\"] = tweet_data_copy[\"created_at\"].apply(pd.Timestamp)"
   ]
  },
  {
   "cell_type": "code",
   "execution_count": 45,
   "metadata": {},
   "outputs": [],
   "source": [
    "# `full_text` 中保存了评分数据，`tweet` 文本信息以及链接数据\n",
    "tweet_data_copy[\"rating_denominator_1\"] = tweet_data_copy[\"full_text\"].apply(lambda x: int(text_split(x, rating_denominator_option=True)))\n",
    "tweet_data_copy[\"rating_numerator_1\"] = tweet_data_copy[\"full_text\"].apply(lambda x: int(text_split(x, rating_numerator_option=True)))\n",
    "tweet_data_copy[\"full_text\"] = tweet_data_copy[\"full_text\"].apply(lambda x: text_split(x, tweet_text_option=True))"
   ]
  },
  {
   "cell_type": "code",
   "execution_count": 46,
   "metadata": {},
   "outputs": [],
   "source": [
    "# `source` 中保存了 `HTML` 标签类型数据\n",
    "tweet_data_copy[\"source\"] = tweet_data_copy[\"source\"].apply(html_content)\n",
    "\n",
    "tweet_data_copy[\"source\"] = tweet_data_copy[\"source\"].map(source_dict)"
   ]
  },
  {
   "cell_type": "code",
   "execution_count": 47,
   "metadata": {},
   "outputs": [],
   "source": [
    "# `media_url` ,`in_reply_to_status_id` 以及 `in_reply_to_user_id` 中以 `None` 来保存缺失数据的情况\n",
    "tweet_data_copy[[\"media_url\", \"in_reply_to_status_id\", \"in_reply_to_user_id\"]] = \\\n",
    "    tweet_data_copy[[\"media_url\", \"in_reply_to_status_id\", \"in_reply_to_user_id\"]].applymap(lambda x: np.NaN if x==None else x)"
   ]
  },
  {
   "cell_type": "code",
   "execution_count": 48,
   "metadata": {},
   "outputs": [
    {
     "name": "stdout",
     "output_type": "stream",
     "text": [
      "After wrangling data about the tweet data:\n",
      "\n",
      "id                                    object\n",
      "created_at               datetime64[ns, UTC]\n",
      "full_text                             object\n",
      "media_url                             object\n",
      "favorite_count                         int64\n",
      "retweet_count                          int64\n",
      "in_reply_to_status_id                float64\n",
      "in_reply_to_user_id                  float64\n",
      "expanded_url                          object\n",
      "source                                object\n",
      "rating_denominator_1                   int64\n",
      "rating_numerator_1                     int64\n",
      "dtype: object\n"
     ]
    }
   ],
   "source": [
    "print(\"After wrangling data about the tweet data:\\n\")\n",
    "print(tweet_data_copy.dtypes)"
   ]
  },
  {
   "cell_type": "code",
   "execution_count": 49,
   "metadata": {},
   "outputs": [
    {
     "data": {
      "text/plain": [
       "0       https://twitter.com/dog_rates/status/892420643...\n",
       "1       https://twitter.com/dog_rates/status/892177421...\n",
       "2       https://twitter.com/dog_rates/status/891815181...\n",
       "3       https://twitter.com/dog_rates/status/891689557...\n",
       "4       https://twitter.com/dog_rates/status/891327558...\n",
       "5       https://twitter.com/dog_rates/status/891087950...\n",
       "6       https://twitter.com/dog_rates/status/890971913...\n",
       "7       https://twitter.com/dog_rates/status/890729181...\n",
       "8       https://twitter.com/dog_rates/status/890609185...\n",
       "9       https://twitter.com/dog_rates/status/890240255...\n",
       "10      https://twitter.com/dog_rates/status/890006608...\n",
       "11      https://twitter.com/dog_rates/status/889880896...\n",
       "12      https://twitter.com/dog_rates/status/889665388...\n",
       "13      https://twitter.com/dog_rates/status/889638837...\n",
       "14      https://twitter.com/dog_rates/status/889531135...\n",
       "15      https://twitter.com/dog_rates/status/889278841...\n",
       "16      https://twitter.com/dog_rates/status/888917238...\n",
       "17      https://twitter.com/dog_rates/status/888804989...\n",
       "18      https://twitter.com/dog_rates/status/888554962...\n",
       "19      https://twitter.com/dog_rates/status/888078434...\n",
       "20      https://twitter.com/dog_rates/status/887705289...\n",
       "21      https://twitter.com/dog_rates/status/887517139...\n",
       "22      https://twitter.com/dog_rates/status/887473957...\n",
       "23      https://twitter.com/dog_rates/status/887343217...\n",
       "24      https://twitter.com/dog_rates/status/887101392...\n",
       "25      https://twitter.com/dog_rates/status/886983233...\n",
       "26      https://twitter.com/dog_rates/status/886736880...\n",
       "27      https://twitter.com/dog_rates/status/886680336...\n",
       "28      https://twitter.com/dog_rates/status/886366144...\n",
       "29                                                   None\n",
       "                              ...                        \n",
       "2322    https://twitter.com/dog_rates/status/666411507...\n",
       "2323    https://twitter.com/dog_rates/status/666407126...\n",
       "2324    https://twitter.com/dog_rates/status/666396247...\n",
       "2325    https://twitter.com/dog_rates/status/666373753...\n",
       "2326    https://twitter.com/dog_rates/status/666362758...\n",
       "2327    https://twitter.com/dog_rates/status/666353288...\n",
       "2328    https://twitter.com/dog_rates/status/666345417...\n",
       "2329    https://twitter.com/dog_rates/status/666337882...\n",
       "2330    https://twitter.com/dog_rates/status/666293911...\n",
       "2331    https://twitter.com/dog_rates/status/666287406...\n",
       "2332    https://twitter.com/dog_rates/status/666273097...\n",
       "2333    https://twitter.com/dog_rates/status/666268910...\n",
       "2334    https://twitter.com/dog_rates/status/666104133...\n",
       "2335    https://twitter.com/dog_rates/status/666102155...\n",
       "2336    https://twitter.com/dog_rates/status/666099513...\n",
       "2337    https://twitter.com/dog_rates/status/666094000...\n",
       "2338    https://twitter.com/dog_rates/status/666082916...\n",
       "2339    https://twitter.com/dog_rates/status/666073100...\n",
       "2340    https://twitter.com/dog_rates/status/666071193...\n",
       "2341    https://twitter.com/dog_rates/status/666063827...\n",
       "2342    https://twitter.com/dog_rates/status/666058600...\n",
       "2343    https://twitter.com/dog_rates/status/666057090...\n",
       "2344    https://twitter.com/dog_rates/status/666055525...\n",
       "2345    https://twitter.com/dog_rates/status/666051853...\n",
       "2346    https://twitter.com/dog_rates/status/666050758...\n",
       "2347    https://twitter.com/dog_rates/status/666049248...\n",
       "2348    https://twitter.com/dog_rates/status/666044226...\n",
       "2349    https://twitter.com/dog_rates/status/666033412...\n",
       "2350    https://twitter.com/dog_rates/status/666029285...\n",
       "2351    https://twitter.com/dog_rates/status/666020888...\n",
       "Name: expanded_url, Length: 2352, dtype: object"
      ]
     },
     "execution_count": 49,
     "metadata": {},
     "output_type": "execute_result"
    }
   ],
   "source": [
    "tweet_data_copy[\"expanded_url\"]"
   ]
  },
  {
   "cell_type": "markdown",
   "metadata": {},
   "source": [
    "### 数据清洗后流程\n",
    "以上经过数据清洗的过程，详情见 [wrangle_report](./wrangle_report.md)。完成以上的数据清洗，需要将相关数据进行融合：主要从几个方面去考虑，确立 **主键** ——因为需要依据主键值 `field` 来完成数据融合，另外还需要对各个 `field` 进行调整。在确立主键将数据融合到一起之后，需要再次对数据进行检查确认。至此才能保存数据结果。经实际代码验证和文档信息解读，三个数据集中，`tweet_id` 和 `id` 可以作为数据结合的主键。"
   ]
  },
  {
   "cell_type": "code",
   "execution_count": 50,
   "metadata": {
    "scrolled": true
   },
   "outputs": [
    {
     "data": {
      "text/plain": [
       "tweet_id     object\n",
       "jpg_url      object\n",
       "img_num       int64\n",
       "p1           object\n",
       "p1_conf     float64\n",
       "p1_dog         bool\n",
       "p2           object\n",
       "p2_conf     float64\n",
       "p2_dog         bool\n",
       "p3           object\n",
       "p3_conf     float64\n",
       "p3_dog         bool\n",
       "dtype: object"
      ]
     },
     "execution_count": 50,
     "metadata": {},
     "output_type": "execute_result"
    }
   ],
   "source": [
    "image_data_copy.dtypes"
   ]
  },
  {
   "cell_type": "code",
   "execution_count": 51,
   "metadata": {},
   "outputs": [
    {
     "data": {
      "text/plain": [
       "tweet_id                                   object\n",
       "in_reply_to_status_id                      object\n",
       "in_reply_to_user_id                        object\n",
       "timestamp                     datetime64[ns, UTC]\n",
       "source                                     object\n",
       "text                                       object\n",
       "retweeted_status_id                        object\n",
       "retweeted_status_user_id                   object\n",
       "retweeted_status_timestamp    datetime64[ns, UTC]\n",
       "expanded_urls                              object\n",
       "rating_numerator                            int64\n",
       "rating_denominator                          int64\n",
       "name                                       object\n",
       "dog_type                                   object\n",
       "dtype: object"
      ]
     },
     "execution_count": 51,
     "metadata": {},
     "output_type": "execute_result"
    }
   ],
   "source": [
    "twitter_archive_data_copy.dtypes"
   ]
  },
  {
   "cell_type": "code",
   "execution_count": 52,
   "metadata": {},
   "outputs": [
    {
     "data": {
      "text/plain": [
       "id                                    object\n",
       "created_at               datetime64[ns, UTC]\n",
       "full_text                             object\n",
       "media_url                             object\n",
       "favorite_count                         int64\n",
       "retweet_count                          int64\n",
       "in_reply_to_status_id                float64\n",
       "in_reply_to_user_id                  float64\n",
       "expanded_url                          object\n",
       "source                                object\n",
       "rating_denominator_1                   int64\n",
       "rating_numerator_1                     int64\n",
       "dtype: object"
      ]
     },
     "execution_count": 52,
     "metadata": {},
     "output_type": "execute_result"
    }
   ],
   "source": [
    "tweet_data_copy.dtypes"
   ]
  },
  {
   "cell_type": "code",
   "execution_count": 53,
   "metadata": {},
   "outputs": [],
   "source": [
    "image_data_copy.columns = ['tweet_id', 'jpg_url_image', 'img_num',\n",
    "                           'p1', 'p1_conf', 'p1_dog', 'p2',\n",
    "                           'p2_conf', 'p2_dog', 'p3', 'p3_conf', 'p3_dog']"
   ]
  },
  {
   "cell_type": "code",
   "execution_count": 54,
   "metadata": {},
   "outputs": [],
   "source": [
    "twitter_archive_data_copy.columns = ['tweet_id', 'in_reply_to_status_id_archive',\n",
    "                                     'in_reply_to_user_id_archive', 'timestamp',\n",
    "                                     'source_archive', 'text_archive', \n",
    "                                     'retweeted_status_id_archive', \n",
    "                                     'retweeted_status_user_id_archive',\n",
    "                                     'retweeted_status_timestamp_archive',\n",
    "                                     'expanded_urls_archive', 'rating_numerator_archive',\n",
    "                                     'rating_denominator_archive', 'name', 'dog_type']"
   ]
  },
  {
   "cell_type": "code",
   "execution_count": 55,
   "metadata": {},
   "outputs": [],
   "source": [
    "tweet_data_copy.columns = ['tweet_id', 'created_at_tweet', 'text_tweet', 'jpg_url_tweet', 'favorite_count',\n",
    "       'retweet_count', 'in_reply_to_status_id_tweet', 'in_reply_to_user_id_tweet',\n",
    "       'expanded_urls_tweet', 'source_tweet', 'rating_denominator_tweet', 'rating_numerator_tweet']"
   ]
  },
  {
   "cell_type": "code",
   "execution_count": 56,
   "metadata": {},
   "outputs": [],
   "source": [
    "data = twitter_archive_data_copy.merge(image_data_copy, on=\"tweet_id\", how='left')\n",
    "data = data.merge(tweet_data_copy, on=\"tweet_id\", how=\"left\")"
   ]
  },
  {
   "cell_type": "code",
   "execution_count": 57,
   "metadata": {},
   "outputs": [
    {
     "data": {
      "text/plain": [
       "(2356, 36)"
      ]
     },
     "execution_count": 57,
     "metadata": {},
     "output_type": "execute_result"
    }
   ],
   "source": [
    "data.shape"
   ]
  },
  {
   "cell_type": "code",
   "execution_count": 58,
   "metadata": {},
   "outputs": [],
   "source": [
    "# assign the duplicate value into np.nan about the iamge url\n",
    "duplicate_url_index = data[(data[\"jpg_url_image\"] == data[\"jpg_url_tweet\"]) & \n",
    "     (data[\"jpg_url_image\"].isnull().apply(lambda x: not x) & data[\"jpg_url_tweet\"].isnull().apply(lambda x: not x))].index\n",
    "\n",
    "data.loc[duplicate_url_index, \"jpg_url_tweet\"] = np.nan"
   ]
  },
  {
   "cell_type": "code",
   "execution_count": 59,
   "metadata": {},
   "outputs": [],
   "source": [
    "# drop the so many missing value\n",
    "data.drop([\"in_reply_to_status_id_archive\", \"in_reply_to_user_id_archive\",\n",
    "          \"retweeted_status_id_archive\", \"retweeted_status_user_id_archive\",\n",
    "          \"in_reply_to_status_id_tweet\", \"in_reply_to_user_id_tweet\", \n",
    "           \"expanded_urls_tweet\", \"source_tweet\",\"text_tweet\", \n",
    "          \"rating_denominator_tweet\", \"rating_numerator_tweet\",\n",
    "          \"created_at_tweet\"], axis=1, inplace=True)"
   ]
  },
  {
   "cell_type": "code",
   "execution_count": 60,
   "metadata": {},
   "outputs": [
    {
     "data": {
      "text/plain": [
       "(2356, 24)"
      ]
     },
     "execution_count": 60,
     "metadata": {},
     "output_type": "execute_result"
    }
   ],
   "source": [
    "data.shape"
   ]
  },
  {
   "cell_type": "code",
   "execution_count": 61,
   "metadata": {},
   "outputs": [],
   "source": [
    "# store the data\n",
    "data.to_csv(\"./twitter_archive_master.csv\", index=False)"
   ]
  },
  {
   "cell_type": "code",
   "execution_count": 62,
   "metadata": {},
   "outputs": [
    {
     "data": {
      "text/plain": [
       "0"
      ]
     },
     "execution_count": 62,
     "metadata": {},
     "output_type": "execute_result"
    }
   ],
   "source": [
    "sum(data[\"text_archive\"].apply(lambda x : x == \"\"))"
   ]
  },
  {
   "cell_type": "code",
   "execution_count": 63,
   "metadata": {},
   "outputs": [
    {
     "data": {
      "text/plain": [
       "tweet_id                                 0\n",
       "timestamp                                0\n",
       "source_archive                           0\n",
       "text_archive                             9\n",
       "retweeted_status_timestamp_archive    2175\n",
       "expanded_urls_archive                    0\n",
       "rating_numerator_archive                 0\n",
       "rating_denominator_archive               0\n",
       "name                                     0\n",
       "dog_type                              1976\n",
       "jpg_url_image                          281\n",
       "img_num                                281\n",
       "p1                                     281\n",
       "p1_conf                                281\n",
       "p1_dog                                 281\n",
       "p2                                     281\n",
       "p2_conf                                281\n",
       "p2_dog                                 281\n",
       "p3                                     281\n",
       "p3_conf                                281\n",
       "p3_dog                                 281\n",
       "jpg_url_tweet                         2063\n",
       "favorite_count                           4\n",
       "retweet_count                            4\n",
       "dtype: int64"
      ]
     },
     "execution_count": 63,
     "metadata": {},
     "output_type": "execute_result"
    }
   ],
   "source": [
    "data.isnull().sum()"
   ]
  },
  {
   "cell_type": "markdown",
   "metadata": {},
   "source": [
    "考虑到融合数据需要依照 `outer joint` 的方式进行，因此优先考虑对大数据量的数据进行融合——这样保证了数据一致性。因此分别通过两步进行了融合。融合后目前得到的数据为有 `2356` 个数据点且包含了 `36` 个 `field` 数据。但是数据依然存在以下问题，需要进行相关处理，清理之后，最终得到的数据为 `2356` 个数据点且包含了 `24` 个 `field` 数据。"
   ]
  },
  {
   "cell_type": "code",
   "execution_count": 64,
   "metadata": {},
   "outputs": [],
   "source": [
    "df = pd.read_csv(\"twitter_archive_master.csv\")"
   ]
  },
  {
   "cell_type": "code",
   "execution_count": 65,
   "metadata": {},
   "outputs": [
    {
     "data": {
      "text/plain": [
       "tweet_id                                 0\n",
       "timestamp                                0\n",
       "source_archive                           0\n",
       "text_archive                             9\n",
       "retweeted_status_timestamp_archive    2175\n",
       "expanded_urls_archive                    0\n",
       "rating_numerator_archive                 0\n",
       "rating_denominator_archive               0\n",
       "name                                     0\n",
       "dog_type                              1976\n",
       "jpg_url_image                          281\n",
       "img_num                                281\n",
       "p1                                     281\n",
       "p1_conf                                281\n",
       "p1_dog                                 281\n",
       "p2                                     281\n",
       "p2_conf                                281\n",
       "p2_dog                                 281\n",
       "p3                                     281\n",
       "p3_conf                                281\n",
       "p3_dog                                 281\n",
       "jpg_url_tweet                         2063\n",
       "favorite_count                           4\n",
       "retweet_count                            4\n",
       "dtype: int64"
      ]
     },
     "execution_count": 65,
     "metadata": {},
     "output_type": "execute_result"
    }
   ],
   "source": [
    "df.isnull().sum()"
   ]
  },
  {
   "cell_type": "markdown",
   "metadata": {},
   "source": [
    "### 参考\n",
    "1. [Tweet object — Twitter Developers](https://developer.twitter.com/en/docs/tweets/data-dictionary/overview/tweet-object.html) 该文档对 `API` 数据的 `Field` 进行了解释，需要注意和目前得到的数据存在部分差异\n",
    "2. [floating point - Why is NaN not equal to NaN? - Stack Overflow](https://stackoverflow.com/questions/10034149/why-is-nan-not-equal-to-nan?noredirect=1&lq=1)"
   ]
  }
 ],
 "metadata": {
  "kernelspec": {
   "display_name": "Python [conda env:anaconda3]",
   "language": "python",
   "name": "conda-env-anaconda3-py"
  },
  "language_info": {
   "codemirror_mode": {
    "name": "ipython",
    "version": 3
   },
   "file_extension": ".py",
   "mimetype": "text/x-python",
   "name": "python",
   "nbconvert_exporter": "python",
   "pygments_lexer": "ipython3",
   "version": "3.6.5"
  }
 },
 "nbformat": 4,
 "nbformat_minor": 2
}
