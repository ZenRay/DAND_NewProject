{
 "cells": [
  {
   "cell_type": "markdown",
   "metadata": {},
   "source": [
    "# 五王之战分析 - 冰与火之歌"
   ]
  },
  {
   "cell_type": "markdown",
   "metadata": {},
   "source": [
    "## 简介\n",
    "\n",
    "五王之战（War of the Five Kings）是著名严肃奇幻小说《冰与火之歌》中的著名内战。这是一场规模空前、波及七大王国的内乱。顾名思义，前后共有五人在战争中称王：乔佛里、史坦尼斯、蓝礼均声称自己是铁王座的合法继承人。除此之外，罗柏·史塔克被北境众封臣推选为北境之王，巴隆·葛雷乔伊亦再度掀起独立大旗，欲摆脱铁王座的统治，自称为铁群岛之王。\n",
    "\n"
   ]
  },
  {
   "cell_type": "markdown",
   "metadata": {},
   "source": [
    "本数据集(battles.csv)包含了五王之战期间的战争，它是所有战斗的大集合。该数据是Kaggle中[Game of Thrones](https://www.kaggle.com/mylesoneill/game-of-thrones)的一部分。\n",
    "\n",
    "数据中的变量含义解释：\n",
    "```\n",
    "name: 战争的名称，字符变量。\n",
    "year: 战争发生的年份，数值变量。\n",
    "battle_number: 本数据中的unique id，对应每一场独立的战役，数值变量。\n",
    "attacker_king: 攻击方的国王，\"/\"表示了国王的更换。例如：\"Joffrey/Tommen Baratheon\"意味着Tomen Baratheon继承了Joffrey的王位，分类变量。\n",
    "defender_king: 防守方的国王，分类变量。\n",
    "attacker_1: 攻击方将领，字符变量。\n",
    "attacker_2: 攻击方将领，字符变量。\n",
    "attacker_3: 攻击方将领，字符变量。\n",
    "attacker_4: 攻击方将领，字符变量。\n",
    "defender_1: 防守方将领，字符变量。\n",
    "defender_2: 防守方将领，字符变量。\n",
    "defender_3: 防守方将领，字符变量。\n",
    "defender_4: 防守方将领，字符变量。\n",
    "attacker_outcome: 从攻击方角度来看的战争结果，分别有：win, loss, draw，分类变量。\n",
    "battle_type: 战争的类别。pitched_battle: 双方军队在一个地点相遇并战斗，这也是最基本的战争类别；ambush: 以隐身或诡计为主要攻击手段的战争；siege: 阵地战；razing: 对未设防位置的攻击。分类变量。\n",
    "major_death: 是否有重要人物的死亡，二进制变量。\n",
    "major_capture: 是否有重要人物的被捕，二进制变量。\n",
    "attacker_size: 攻击方力量的大小，并未对骑兵、步兵等士兵种类有所区分，数值变量。\n",
    "defender_size: 防守方力量的大小，并未对骑兵、步兵等士兵种类有所区分，数值变量。\n",
    "attacker_commander: 攻击方的主要指挥官。指挥官的名字中并没有包含头衔，不同的指挥官名字用逗号隔开，字符变量。\n",
    "defender_commander: 防守方的主要指挥官。指挥官的名字中并没有包含头衔，不同的指挥官名字用逗号隔开，字符变量。\n",
    "summer: 战争是否发生于夏天，二进制变量。\n",
    "location: 战争发生的地点，字符变量。\n",
    "region: 战争发生的地域，包括：Beyond the Wall, The North, The Iron Islands, The Riverlands, The Vale of Arryn, The Westerlands, The Crownlands, The Reach, The Stormlands, Dorne，分类变量。\n",
    "note: 注释，字符变量。\n",
    "\n",
    "```"
   ]
  },
  {
   "cell_type": "markdown",
   "metadata": {},
   "source": [
    "## 项目完成指南\n",
    "\n",
    "\n",
    "\n",
    "本项目中的数据分析流程已经给出，但代码将完全由你自己进行书写，如果你无法完成本项目，说明你目前的能力并不足以完成 数据分析(进阶)纳米学位，建议先进行 数据分析（入门）纳米学位的学习，掌握进阶课程的先修知识。\n",
    "\n",
    "对于数据分析过程的记录也是数据分析报告的一个重要部分，你可以自己在需要的位置插入Markdown cell，记录你在数据分析中的关键步骤和推理过程。比如：数据有什么样的特点，统计数据的含义是什么，你从可视化中可以得出什么结论，下一步分析是什么，为什么执行这种分析。如果你无法做到这一点，你也无法通过本项目。"
   ]
  },
  {
   "cell_type": "markdown",
   "metadata": {},
   "source": [
    "## 提出问题\n",
    "\n",
    "在此项目中，你将以一名数据分析师的身份执行数据的探索性分析。你将了解数据分析过程的基本流程。在你分析数据之前，请先思考几个你需要理解的关于这些战斗的问题，例如，哪一个区域发生了最多的战争？哪一个国王获得了最多的胜利？战争的胜利与否受那些关键因素的影响？\n",
    "\n",
    "**问题**：请写下你感兴趣的问题，请确保这些问题能够由现有的数据进行回答。\n",
    "（为了确保学习的效果，请确保你的数据分析报告中能够包含2幅可视化和1个相关性分析。）\n",
    "\n",
    "**答案**：对随着时间变化的情况下，战争是怎么样演化的，战斗状态变化。例如年份变化下，战争发生次数变化；战争发起方的战争最失败与成功情况；战争参与人数与战争输赢之间的关系；随着时间变化，战斗激烈程度和战斗类型\n",
    "\n",
    "\n",
    "在提出了问题之后，我们将开始导入数据，并对数据进行探索性分析，来回答上面提出的问题。"
   ]
  },
  {
   "cell_type": "markdown",
   "metadata": {},
   "source": [
    "## 数据评估和清理"
   ]
  },
  {
   "cell_type": "code",
   "execution_count": 1,
   "metadata": {},
   "outputs": [],
   "source": [
    "# TO DO: load pacakges\n",
    "import pandas as pd\n",
    "import numpy as np\n",
    "import matplotlib.pyplot as plt\n",
    "import matplotlib.patches as mpathes\n",
    "from matplotlib.lines import Line2D\n",
    "from copy import deepcopy\n",
    "%matplotlib inline"
   ]
  },
  {
   "cell_type": "code",
   "execution_count": 2,
   "metadata": {},
   "outputs": [],
   "source": [
    "# TO DO: load the dataset\n",
    "data = pd.read_csv(\"./data/battles.csv\")"
   ]
  },
  {
   "cell_type": "code",
   "execution_count": 3,
   "metadata": {},
   "outputs": [
    {
     "data": {
      "text/html": [
       "<div>\n",
       "<style scoped>\n",
       "    .dataframe tbody tr th:only-of-type {\n",
       "        vertical-align: middle;\n",
       "    }\n",
       "\n",
       "    .dataframe tbody tr th {\n",
       "        vertical-align: top;\n",
       "    }\n",
       "\n",
       "    .dataframe thead th {\n",
       "        text-align: right;\n",
       "    }\n",
       "</style>\n",
       "<table border=\"1\" class=\"dataframe\">\n",
       "  <thead>\n",
       "    <tr style=\"text-align: right;\">\n",
       "      <th></th>\n",
       "      <th>name</th>\n",
       "      <th>year</th>\n",
       "      <th>battle_number</th>\n",
       "      <th>attacker_king</th>\n",
       "      <th>defender_king</th>\n",
       "      <th>attacker_1</th>\n",
       "      <th>attacker_2</th>\n",
       "      <th>attacker_3</th>\n",
       "      <th>attacker_4</th>\n",
       "      <th>defender_1</th>\n",
       "      <th>...</th>\n",
       "      <th>major_death</th>\n",
       "      <th>major_capture</th>\n",
       "      <th>attacker_size</th>\n",
       "      <th>defender_size</th>\n",
       "      <th>attacker_commander</th>\n",
       "      <th>defender_commander</th>\n",
       "      <th>summer</th>\n",
       "      <th>location</th>\n",
       "      <th>region</th>\n",
       "      <th>note</th>\n",
       "    </tr>\n",
       "  </thead>\n",
       "  <tbody>\n",
       "    <tr>\n",
       "      <th>0</th>\n",
       "      <td>Battle of the Golden Tooth</td>\n",
       "      <td>298</td>\n",
       "      <td>1</td>\n",
       "      <td>Joffrey/Tommen Baratheon</td>\n",
       "      <td>Robb Stark</td>\n",
       "      <td>Lannister</td>\n",
       "      <td>NaN</td>\n",
       "      <td>NaN</td>\n",
       "      <td>NaN</td>\n",
       "      <td>Tully</td>\n",
       "      <td>...</td>\n",
       "      <td>1.0</td>\n",
       "      <td>0.0</td>\n",
       "      <td>15000.0</td>\n",
       "      <td>4000.0</td>\n",
       "      <td>Jaime Lannister</td>\n",
       "      <td>Clement Piper, Vance</td>\n",
       "      <td>1.0</td>\n",
       "      <td>Golden Tooth</td>\n",
       "      <td>The Westerlands</td>\n",
       "      <td>NaN</td>\n",
       "    </tr>\n",
       "    <tr>\n",
       "      <th>1</th>\n",
       "      <td>Battle at the Mummer's Ford</td>\n",
       "      <td>298</td>\n",
       "      <td>2</td>\n",
       "      <td>Joffrey/Tommen Baratheon</td>\n",
       "      <td>Robb Stark</td>\n",
       "      <td>Lannister</td>\n",
       "      <td>NaN</td>\n",
       "      <td>NaN</td>\n",
       "      <td>NaN</td>\n",
       "      <td>Baratheon</td>\n",
       "      <td>...</td>\n",
       "      <td>1.0</td>\n",
       "      <td>0.0</td>\n",
       "      <td>NaN</td>\n",
       "      <td>120.0</td>\n",
       "      <td>Gregor Clegane</td>\n",
       "      <td>Beric Dondarrion</td>\n",
       "      <td>1.0</td>\n",
       "      <td>Mummer's Ford</td>\n",
       "      <td>The Riverlands</td>\n",
       "      <td>NaN</td>\n",
       "    </tr>\n",
       "    <tr>\n",
       "      <th>2</th>\n",
       "      <td>Battle of Riverrun</td>\n",
       "      <td>298</td>\n",
       "      <td>3</td>\n",
       "      <td>Joffrey/Tommen Baratheon</td>\n",
       "      <td>Robb Stark</td>\n",
       "      <td>Lannister</td>\n",
       "      <td>NaN</td>\n",
       "      <td>NaN</td>\n",
       "      <td>NaN</td>\n",
       "      <td>Tully</td>\n",
       "      <td>...</td>\n",
       "      <td>0.0</td>\n",
       "      <td>1.0</td>\n",
       "      <td>15000.0</td>\n",
       "      <td>10000.0</td>\n",
       "      <td>Jaime Lannister, Andros Brax</td>\n",
       "      <td>Edmure Tully, Tytos Blackwood</td>\n",
       "      <td>1.0</td>\n",
       "      <td>Riverrun</td>\n",
       "      <td>The Riverlands</td>\n",
       "      <td>NaN</td>\n",
       "    </tr>\n",
       "  </tbody>\n",
       "</table>\n",
       "<p>3 rows × 25 columns</p>\n",
       "</div>"
      ],
      "text/plain": [
       "                          name  year  battle_number             attacker_king  \\\n",
       "0   Battle of the Golden Tooth   298              1  Joffrey/Tommen Baratheon   \n",
       "1  Battle at the Mummer's Ford   298              2  Joffrey/Tommen Baratheon   \n",
       "2           Battle of Riverrun   298              3  Joffrey/Tommen Baratheon   \n",
       "\n",
       "  defender_king attacker_1 attacker_2 attacker_3 attacker_4 defender_1 ...   \\\n",
       "0    Robb Stark  Lannister        NaN        NaN        NaN      Tully ...    \n",
       "1    Robb Stark  Lannister        NaN        NaN        NaN  Baratheon ...    \n",
       "2    Robb Stark  Lannister        NaN        NaN        NaN      Tully ...    \n",
       "\n",
       "  major_death  major_capture  attacker_size defender_size  \\\n",
       "0         1.0            0.0        15000.0        4000.0   \n",
       "1         1.0            0.0            NaN         120.0   \n",
       "2         0.0            1.0        15000.0       10000.0   \n",
       "\n",
       "             attacker_commander             defender_commander  summer  \\\n",
       "0               Jaime Lannister           Clement Piper, Vance     1.0   \n",
       "1                Gregor Clegane               Beric Dondarrion     1.0   \n",
       "2  Jaime Lannister, Andros Brax  Edmure Tully, Tytos Blackwood     1.0   \n",
       "\n",
       "        location           region note  \n",
       "0   Golden Tooth  The Westerlands  NaN  \n",
       "1  Mummer's Ford   The Riverlands  NaN  \n",
       "2       Riverrun   The Riverlands  NaN  \n",
       "\n",
       "[3 rows x 25 columns]"
      ]
     },
     "execution_count": 3,
     "metadata": {},
     "output_type": "execute_result"
    }
   ],
   "source": [
    "# TO DO: check the dataset general info\n",
    "data.head(3)"
   ]
  },
  {
   "cell_type": "code",
   "execution_count": 4,
   "metadata": {},
   "outputs": [
    {
     "name": "stdout",
     "output_type": "stream",
     "text": [
      "<class 'pandas.core.frame.DataFrame'>\n",
      "RangeIndex: 38 entries, 0 to 37\n",
      "Data columns (total 25 columns):\n",
      "name                  38 non-null object\n",
      "year                  38 non-null int64\n",
      "battle_number         38 non-null int64\n",
      "attacker_king         36 non-null object\n",
      "defender_king         35 non-null object\n",
      "attacker_1            38 non-null object\n",
      "attacker_2            10 non-null object\n",
      "attacker_3            3 non-null object\n",
      "attacker_4            2 non-null object\n",
      "defender_1            37 non-null object\n",
      "defender_2            2 non-null object\n",
      "defender_3            0 non-null float64\n",
      "defender_4            0 non-null float64\n",
      "attacker_outcome      37 non-null object\n",
      "battle_type           37 non-null object\n",
      "major_death           37 non-null float64\n",
      "major_capture         37 non-null float64\n",
      "attacker_size         24 non-null float64\n",
      "defender_size         19 non-null float64\n",
      "attacker_commander    37 non-null object\n",
      "defender_commander    28 non-null object\n",
      "summer                37 non-null float64\n",
      "location              37 non-null object\n",
      "region                38 non-null object\n",
      "note                  5 non-null object\n",
      "dtypes: float64(7), int64(2), object(16)\n",
      "memory usage: 7.5+ KB\n"
     ]
    }
   ],
   "source": [
    "data.info()"
   ]
  },
  {
   "cell_type": "code",
   "execution_count": 5,
   "metadata": {},
   "outputs": [
    {
     "data": {
      "text/plain": [
       "(38, 25)"
      ]
     },
     "execution_count": 5,
     "metadata": {},
     "output_type": "execute_result"
    }
   ],
   "source": [
    "data.shape"
   ]
  },
  {
   "cell_type": "code",
   "execution_count": 6,
   "metadata": {},
   "outputs": [
    {
     "data": {
      "text/plain": [
       "6"
      ]
     },
     "execution_count": 6,
     "metadata": {},
     "output_type": "execute_result"
    }
   ],
   "source": [
    "# the note can't express the data, and it just describe war\n",
    "len(data[\"note\"].unique())"
   ]
  },
  {
   "cell_type": "code",
   "execution_count": 7,
   "metadata": {},
   "outputs": [],
   "source": [
    "# drop the columns, which is not meaning information\n",
    "data.drop([\"battle_number\", \"note\", \"defender_3\", \"defender_4\", \"attacker_3\", \"attacker_4\"], axis=1, inplace=True)"
   ]
  },
  {
   "cell_type": "code",
   "execution_count": 8,
   "metadata": {},
   "outputs": [
    {
     "data": {
      "text/plain": [
       "Index(['name', 'year', 'attacker_king', 'defender_king', 'attacker_1',\n",
       "       'attacker_2', 'defender_1', 'defender_2', 'attacker_outcome',\n",
       "       'battle_type', 'major_death', 'major_capture', 'attacker_size',\n",
       "       'defender_size', 'attacker_commander', 'defender_commander', 'summer',\n",
       "       'location', 'region'],\n",
       "      dtype='object')"
      ]
     },
     "execution_count": 8,
     "metadata": {},
     "output_type": "execute_result"
    }
   ],
   "source": [
    "data.columns"
   ]
  },
  {
   "cell_type": "code",
   "execution_count": 9,
   "metadata": {},
   "outputs": [
    {
     "data": {
      "text/plain": [
       "array([ 1.,  0., nan])"
      ]
     },
     "execution_count": 9,
     "metadata": {},
     "output_type": "execute_result"
    }
   ],
   "source": [
    "data[\"major_death\"].unique()"
   ]
  },
  {
   "cell_type": "code",
   "execution_count": 10,
   "metadata": {},
   "outputs": [
    {
     "data": {
      "text/plain": [
       "array([ 0.,  1., nan])"
      ]
     },
     "execution_count": 10,
     "metadata": {},
     "output_type": "execute_result"
    }
   ],
   "source": [
    "data[\"major_capture\"].unique()"
   ]
  },
  {
   "cell_type": "code",
   "execution_count": 11,
   "metadata": {},
   "outputs": [
    {
     "data": {
      "text/plain": [
       "array([ 1., nan,  0.])"
      ]
     },
     "execution_count": 11,
     "metadata": {},
     "output_type": "execute_result"
    }
   ],
   "source": [
    "data[\"summer\"].unique()"
   ]
  },
  {
   "cell_type": "code",
   "execution_count": 12,
   "metadata": {},
   "outputs": [],
   "source": [
    "# change the binary numeric into a meaning information\n",
    "# the missing value changes into no\n",
    "def binary_change(element):\n",
    "    if element == 1.:\n",
    "        return \"Yes\"\n",
    "    else:\n",
    "        return \"No\"\n",
    "data.loc[:, [\"major_death\", \"major_capture\", \"summer\"]]=data.loc[:, [\"major_death\", \"major_capture\", \"summer\"]].applymap(binary_change)    "
   ]
  },
  {
   "cell_type": "code",
   "execution_count": 13,
   "metadata": {},
   "outputs": [],
   "source": [
    "data[\"year\"] = data[\"year\"].astype(dtype=\"category\")"
   ]
  },
  {
   "cell_type": "code",
   "execution_count": 14,
   "metadata": {},
   "outputs": [
    {
     "data": {
      "text/plain": [
       "[298, 299, 300]\n",
       "Categories (3, int64): [298, 299, 300]"
      ]
     },
     "execution_count": 14,
     "metadata": {},
     "output_type": "execute_result"
    }
   ],
   "source": [
    "data[\"year\"].unique()"
   ]
  },
  {
   "cell_type": "code",
   "execution_count": 15,
   "metadata": {},
   "outputs": [
    {
     "data": {
      "text/plain": [
       "(38, 19)"
      ]
     },
     "execution_count": 15,
     "metadata": {},
     "output_type": "execute_result"
    }
   ],
   "source": [
    "data.shape"
   ]
  },
  {
   "cell_type": "markdown",
   "metadata": {},
   "source": [
    "## 评估数据结果\n",
    "* 该数据中有 `38` 个数据样本，其中有些数据没有有效数据，例如 `defender_3` 和 `defender_4` 列；有些列没有提供足够有效分析信息，例如 `note` 、`attacker_3`、`attacker_4`和 `battle_number` 。针对这类数据采取了删除列的措施，最终数据为 `38` 个数据点和 `21` 个特征列。\n",
    "* 此外对于二进制数据进行调整，还原为本来信息。例如：`major_death`、`major_capture` 和 `summer` 等调整为原来的 ”Yes“ 或者 ”No“ 值。另外对于其中缺失值，采取设定为 \"No\" 的方式，该依据是因为这里的值只有两类而且判断是否有值较容易。"
   ]
  },
  {
   "cell_type": "markdown",
   "metadata": {},
   "source": [
    "## 数据探索分析"
   ]
  },
  {
   "cell_type": "code",
   "execution_count": 16,
   "metadata": {},
   "outputs": [],
   "source": [
    "# In exploratory data analysis, please make sure of using statistics and visualizations\n",
    "year = tuple(data[\"year\"].unique())\n",
    "frequecy = tuple(data.groupby(\"year\")[\"year\"].count().values)\n",
    "year_frequency = pd.DataFrame({\"year\":year, \"frequency\":frequecy}, columns=[\"year\", \"frequency\"])"
   ]
  },
  {
   "cell_type": "code",
   "execution_count": 17,
   "metadata": {},
   "outputs": [
    {
     "data": {
      "text/html": [
       "<div>\n",
       "<style scoped>\n",
       "    .dataframe tbody tr th:only-of-type {\n",
       "        vertical-align: middle;\n",
       "    }\n",
       "\n",
       "    .dataframe tbody tr th {\n",
       "        vertical-align: top;\n",
       "    }\n",
       "\n",
       "    .dataframe thead th {\n",
       "        text-align: right;\n",
       "    }\n",
       "</style>\n",
       "<table border=\"1\" class=\"dataframe\">\n",
       "  <thead>\n",
       "    <tr style=\"text-align: right;\">\n",
       "      <th></th>\n",
       "      <th>year</th>\n",
       "      <th>frequency</th>\n",
       "    </tr>\n",
       "  </thead>\n",
       "  <tbody>\n",
       "    <tr>\n",
       "      <th>0</th>\n",
       "      <td>298</td>\n",
       "      <td>7</td>\n",
       "    </tr>\n",
       "    <tr>\n",
       "      <th>1</th>\n",
       "      <td>299</td>\n",
       "      <td>20</td>\n",
       "    </tr>\n",
       "    <tr>\n",
       "      <th>2</th>\n",
       "      <td>300</td>\n",
       "      <td>11</td>\n",
       "    </tr>\n",
       "  </tbody>\n",
       "</table>\n",
       "</div>"
      ],
      "text/plain": [
       "   year  frequency\n",
       "0   298          7\n",
       "1   299         20\n",
       "2   300         11"
      ]
     },
     "execution_count": 17,
     "metadata": {},
     "output_type": "execute_result"
    }
   ],
   "source": [
    "year_frequency"
   ]
  },
  {
   "cell_type": "code",
   "execution_count": 18,
   "metadata": {},
   "outputs": [
    {
     "data": {
      "image/png": "[encoded data removed]",
      "text/plain": [
       "<Figure size 720x576 with 1 Axes>"
      ]
     },
     "metadata": {},
     "output_type": "display_data"
    }
   ],
   "source": [
    "plt.figure(figsize=(10, 8))\n",
    "plt.bar(x=year, height=frequecy, color=\"grey\")\n",
    "plt.title(\"Fig 1: War Frequency In The Years\", loc=\"left\", fontsize=20)\n",
    "plt.xlabel(\"Year\", fontsize=16)\n",
    "plt.ylabel(\"Frequency\", fontsize=16)\n",
    "\n",
    "plt.xticks(year)\n",
    "plt.ylim(0, 22)\n",
    "\n",
    "ax = plt.gca()\n",
    "ax.axes.set_yticks(np.arange(ax.axes.get_yticks()[0], ax.axes.get_yticks()[-1], 2))\n",
    "ax.axes.set_yticklabels(labels=np.arange(ax.axes.get_yticks()[0], ax.axes.get_yticks()[-1], 2),fontsize=16)\n",
    "\n",
    "\n",
    "ax.axes.set_xticklabels(labels=ax.axes.get_xticks(), fontsize=14)\n",
    "\n",
    "# show frequecy\n",
    "for x, y in zip(year, frequecy):\n",
    "    plt.text(x=x, y=y+0.2, s=y, fontsize=16, color=\"black\")\n",
    "plt.show()"
   ]
  },
  {
   "cell_type": "markdown",
   "metadata": {},
   "source": [
    "## 1. 五王之战中战争频次分析\n",
    "从 `Fig 1` 中，可知五王之战总共发生了 `3` 年，其中在第二年战争最激烈——共发生了20次；在第一年中发生了 `7` 次；最后一年发生了 `11` 次。"
   ]
  },
  {
   "cell_type": "code",
   "execution_count": 19,
   "metadata": {},
   "outputs": [
    {
     "data": {
      "text/plain": [
       "Index(['name', 'year', 'attacker_king', 'defender_king', 'attacker_1',\n",
       "       'attacker_2', 'defender_1', 'defender_2', 'attacker_outcome',\n",
       "       'battle_type', 'major_death', 'major_capture', 'attacker_size',\n",
       "       'defender_size', 'attacker_commander', 'defender_commander', 'summer',\n",
       "       'location', 'region'],\n",
       "      dtype='object')"
      ]
     },
     "execution_count": 19,
     "metadata": {},
     "output_type": "execute_result"
    }
   ],
   "source": [
    "data.columns"
   ]
  },
  {
   "cell_type": "code",
   "execution_count": 20,
   "metadata": {},
   "outputs": [],
   "source": [
    "attacker_year = pd.DataFrame(data.groupby([\"year\", \"attacker_outcome\", \"attacker_1\"])[\"attacker_1\"].count())"
   ]
  },
  {
   "cell_type": "code",
   "execution_count": 21,
   "metadata": {},
   "outputs": [],
   "source": [
    "attacker_year.columns = [\"attack_outcome\"]"
   ]
  },
  {
   "cell_type": "code",
   "execution_count": 22,
   "metadata": {},
   "outputs": [],
   "source": [
    "# change the value if lose the attack\n",
    "for order, index in enumerate(attacker_year.index):\n",
    "    if index[1] == \"loss\":\n",
    "        attacker_year.iloc[order, :] *= -1\n"
   ]
  },
  {
   "cell_type": "code",
   "execution_count": 23,
   "metadata": {},
   "outputs": [
    {
     "data": {
      "text/html": [
       "<div>\n",
       "<style scoped>\n",
       "    .dataframe tbody tr th:only-of-type {\n",
       "        vertical-align: middle;\n",
       "    }\n",
       "\n",
       "    .dataframe tbody tr th {\n",
       "        vertical-align: top;\n",
       "    }\n",
       "\n",
       "    .dataframe thead th {\n",
       "        text-align: right;\n",
       "    }\n",
       "</style>\n",
       "<table border=\"1\" class=\"dataframe\">\n",
       "  <thead>\n",
       "    <tr style=\"text-align: right;\">\n",
       "      <th></th>\n",
       "      <th></th>\n",
       "      <th></th>\n",
       "      <th>attack_outcome</th>\n",
       "    </tr>\n",
       "    <tr>\n",
       "      <th>year</th>\n",
       "      <th>attacker_outcome</th>\n",
       "      <th>attacker_1</th>\n",
       "      <th></th>\n",
       "    </tr>\n",
       "  </thead>\n",
       "  <tbody>\n",
       "    <tr>\n",
       "      <th rowspan=\"3\" valign=\"top\">298</th>\n",
       "      <th>loss</th>\n",
       "      <th>Stark</th>\n",
       "      <td>-1</td>\n",
       "    </tr>\n",
       "    <tr>\n",
       "      <th rowspan=\"2\" valign=\"top\">win</th>\n",
       "      <th>Lannister</th>\n",
       "      <td>4</td>\n",
       "    </tr>\n",
       "    <tr>\n",
       "      <th>Stark</th>\n",
       "      <td>2</td>\n",
       "    </tr>\n",
       "    <tr>\n",
       "      <th rowspan=\"11\" valign=\"top\">299</th>\n",
       "      <th rowspan=\"3\" valign=\"top\">loss</th>\n",
       "      <th>Baratheon</th>\n",
       "      <td>-1</td>\n",
       "    </tr>\n",
       "    <tr>\n",
       "      <th>Lannister</th>\n",
       "      <td>-1</td>\n",
       "    </tr>\n",
       "    <tr>\n",
       "      <th>Stark</th>\n",
       "      <td>-1</td>\n",
       "    </tr>\n",
       "    <tr>\n",
       "      <th rowspan=\"8\" valign=\"top\">win</th>\n",
       "      <th>Baratheon</th>\n",
       "      <td>1</td>\n",
       "    </tr>\n",
       "    <tr>\n",
       "      <th>Bolton</th>\n",
       "      <td>1</td>\n",
       "    </tr>\n",
       "    <tr>\n",
       "      <th>Brotherhood without Banners</th>\n",
       "      <td>1</td>\n",
       "    </tr>\n",
       "    <tr>\n",
       "      <th>Darry</th>\n",
       "      <td>1</td>\n",
       "    </tr>\n",
       "    <tr>\n",
       "      <th>Frey</th>\n",
       "      <td>2</td>\n",
       "    </tr>\n",
       "    <tr>\n",
       "      <th>Greyjoy</th>\n",
       "      <td>5</td>\n",
       "    </tr>\n",
       "    <tr>\n",
       "      <th>Lannister</th>\n",
       "      <td>2</td>\n",
       "    </tr>\n",
       "    <tr>\n",
       "      <th>Stark</th>\n",
       "      <td>4</td>\n",
       "    </tr>\n",
       "    <tr>\n",
       "      <th rowspan=\"7\" valign=\"top\">300</th>\n",
       "      <th>loss</th>\n",
       "      <th>Free folk</th>\n",
       "      <td>-1</td>\n",
       "    </tr>\n",
       "    <tr>\n",
       "      <th rowspan=\"6\" valign=\"top\">win</th>\n",
       "      <th>Baratheon</th>\n",
       "      <td>3</td>\n",
       "    </tr>\n",
       "    <tr>\n",
       "      <th>Bolton</th>\n",
       "      <td>1</td>\n",
       "    </tr>\n",
       "    <tr>\n",
       "      <th>Bracken</th>\n",
       "      <td>1</td>\n",
       "    </tr>\n",
       "    <tr>\n",
       "      <th>Brave Companions</th>\n",
       "      <td>1</td>\n",
       "    </tr>\n",
       "    <tr>\n",
       "      <th>Greyjoy</th>\n",
       "      <td>2</td>\n",
       "    </tr>\n",
       "    <tr>\n",
       "      <th>Lannister</th>\n",
       "      <td>1</td>\n",
       "    </tr>\n",
       "  </tbody>\n",
       "</table>\n",
       "</div>"
      ],
      "text/plain": [
       "                                                   attack_outcome\n",
       "year attacker_outcome attacker_1                                 \n",
       "298  loss             Stark                                    -1\n",
       "     win              Lannister                                 4\n",
       "                      Stark                                     2\n",
       "299  loss             Baratheon                                -1\n",
       "                      Lannister                                -1\n",
       "                      Stark                                    -1\n",
       "     win              Baratheon                                 1\n",
       "                      Bolton                                    1\n",
       "                      Brotherhood without Banners               1\n",
       "                      Darry                                     1\n",
       "                      Frey                                      2\n",
       "                      Greyjoy                                   5\n",
       "                      Lannister                                 2\n",
       "                      Stark                                     4\n",
       "300  loss             Free folk                                -1\n",
       "     win              Baratheon                                 3\n",
       "                      Bolton                                    1\n",
       "                      Bracken                                   1\n",
       "                      Brave Companions                          1\n",
       "                      Greyjoy                                   2\n",
       "                      Lannister                                 1"
      ]
     },
     "execution_count": 23,
     "metadata": {},
     "output_type": "execute_result"
    }
   ],
   "source": [
    "attacker_year"
   ]
  },
  {
   "cell_type": "code",
   "execution_count": 24,
   "metadata": {},
   "outputs": [],
   "source": [
    "attacker_win = attacker_year.query('attacker_outcome==\"win\"')\n",
    "attacker_loss = attacker_year.query('attacker_outcome==\"loss\"')\n",
    "\n",
    "axis_index = [0]\n",
    "axis_label = []\n",
    "color_index = [\"g\", \"c\", \"y\"]\n",
    "for loc, index in enumerate(attacker_win.index.get_values()):\n",
    "    axis_label.append(index[2])\n",
    "    try:\n",
    "        if index[0] == attacker_win.index.get_values()[loc-1][0]:\n",
    "            axis_index.append(axis_index[loc-1] + 1)\n",
    "            color_index.insert(loc, color_index[loc-1])\n",
    "        elif index[0] > attacker_win.index.get_values()[loc-1][0]:\n",
    "            axis_index.append(axis_index[loc-1] + 3)\n",
    "#             color_index.insert(loc, color_index[loc])\n",
    "    except:\n",
    "        continue\n"
   ]
  },
  {
   "cell_type": "code",
   "execution_count": 25,
   "metadata": {},
   "outputs": [],
   "source": [
    "# fix the data about loss attack\n",
    "color_index0 = pd.Series(color_index)\n",
    "# color_index0 = color_index0.map({\"g\":\"m\", \"c\":\"r\", \"y\":\"b\"})\n",
    "loss_value = []\n",
    "loopcount = 0\n",
    "for loc, index in enumerate(attacker_win.index.get_values()):\n",
    "    if attacker_loss.index.get_values()[loopcount][0] == index[0]:\n",
    "        if attacker_loss.index.get_values()[loopcount][2] == index[2]:\n",
    "            loss_value.append(list(attacker_loss[\"attack_outcome\"])[loopcount])\n",
    "            loopcount += 1\n",
    "        else:\n",
    "            loss_value.append(0)\n",
    "\n",
    "# fix the data\n",
    "axis_index0 = deepcopy(axis_index)\n",
    "axis_index0.append(axis_index0[-1] + 1)\n",
    "axis_label0 = deepcopy(axis_label)\n",
    "axis_label0.append(\"Free fold\")\n",
    "color_index0 = color_index0.append(pd.Series([\"y\"]))\n",
    "loss_value.append(-1)"
   ]
  },
  {
   "cell_type": "code",
   "execution_count": 26,
   "metadata": {},
   "outputs": [
    {
     "data": {
      "image/png": "[encoded data removed]",
      "text/plain": [
       "<Figure size 864x720 with 1 Axes>"
      ]
     },
     "metadata": {},
     "output_type": "display_data"
    }
   ],
   "source": [
    "fig, ax = plt.subplots()\n",
    "fig.set_size_inches(12, 10)\n",
    "\n",
    "bar_width = 0.3\n",
    "\n",
    "# win attack \n",
    "rects_win = ax.barh(axis_index, attacker_win[\"attack_outcome\"] )\n",
    "\n",
    "for i, child in enumerate(rects_win.get_children()):\n",
    "    child.axes.set_yticks(axis_index)\n",
    "    child.axes.set_yticklabels(labels=axis_label)\n",
    "    child.axes.tick_params(labeltop=True, top=True, labelbottom=False, bottom=False)\n",
    "    child.set_color(color_index[i])\n",
    "    \n",
    "# loss attack\n",
    "rects_loss = ax.barh(axis_index0, loss_value)\n",
    "\n",
    "\n",
    "for i, child in enumerate(rects_loss.get_children()):\n",
    "    child.axes.set_yticks(axis_index0)\n",
    "    child.axes.set_yticklabels(labels=axis_label0, fontsize=16)\n",
    "    child.axes.tick_params(labeltop=True, top=True, labelbottom=False, bottom=False)\n",
    "    child.set_color(color_index0.iloc[i])    \n",
    "# set the legend by Patch\n",
    "handles = []\n",
    "for color, label in zip([\"g\", \"c\", \"y\"], [\"Year:298\", \"Year:299\", \"Year:300\"]):\n",
    "     handles.append(mpathes.Patch(color=color, label=label))\n",
    "plt.legend(handles=handles, loc='best', fontsize=16)\n",
    "\n",
    "ax.set_title(\"Fig 2: Attacker Loss Or Win The War\", fontsize=20, loc=\"left\", pad=24) # use pad to shift the title\n",
    "# ax.xaxis.grid(c=\"grey\", linestyle=\"--\")\n",
    "ax.vlines(0,axis_index0[0]-2, axis_index0[-1]+2, color=\"grey\", linestyle=\"-\" )\n",
    "plt.show()"
   ]
  },
  {
   "cell_type": "code",
   "execution_count": 27,
   "metadata": {},
   "outputs": [],
   "source": [
    "attacker = pd.DataFrame(data.groupby([\"attacker_1\", \"attacker_outcome\"])[\"attacker_outcome\"].count())"
   ]
  },
  {
   "cell_type": "code",
   "execution_count": 28,
   "metadata": {},
   "outputs": [
    {
     "data": {
      "text/html": [
       "<div>\n",
       "<style scoped>\n",
       "    .dataframe tbody tr th:only-of-type {\n",
       "        vertical-align: middle;\n",
       "    }\n",
       "\n",
       "    .dataframe tbody tr th {\n",
       "        vertical-align: top;\n",
       "    }\n",
       "\n",
       "    .dataframe thead tr th {\n",
       "        text-align: left;\n",
       "    }\n",
       "\n",
       "    .dataframe thead tr:last-of-type th {\n",
       "        text-align: right;\n",
       "    }\n",
       "</style>\n",
       "<table border=\"1\" class=\"dataframe\">\n",
       "  <thead>\n",
       "    <tr>\n",
       "      <th></th>\n",
       "      <th colspan=\"2\" halign=\"left\">attacker_outcome</th>\n",
       "    </tr>\n",
       "    <tr>\n",
       "      <th>attacker_outcome</th>\n",
       "      <th>loss</th>\n",
       "      <th>win</th>\n",
       "    </tr>\n",
       "    <tr>\n",
       "      <th>attacker_1</th>\n",
       "      <th></th>\n",
       "      <th></th>\n",
       "    </tr>\n",
       "  </thead>\n",
       "  <tbody>\n",
       "    <tr>\n",
       "      <th>Baratheon</th>\n",
       "      <td>1.0</td>\n",
       "      <td>4.0</td>\n",
       "    </tr>\n",
       "    <tr>\n",
       "      <th>Bolton</th>\n",
       "      <td>NaN</td>\n",
       "      <td>2.0</td>\n",
       "    </tr>\n",
       "    <tr>\n",
       "      <th>Bracken</th>\n",
       "      <td>NaN</td>\n",
       "      <td>1.0</td>\n",
       "    </tr>\n",
       "    <tr>\n",
       "      <th>Brave Companions</th>\n",
       "      <td>NaN</td>\n",
       "      <td>1.0</td>\n",
       "    </tr>\n",
       "    <tr>\n",
       "      <th>Brotherhood without Banners</th>\n",
       "      <td>NaN</td>\n",
       "      <td>1.0</td>\n",
       "    </tr>\n",
       "    <tr>\n",
       "      <th>Darry</th>\n",
       "      <td>NaN</td>\n",
       "      <td>1.0</td>\n",
       "    </tr>\n",
       "    <tr>\n",
       "      <th>Free folk</th>\n",
       "      <td>1.0</td>\n",
       "      <td>NaN</td>\n",
       "    </tr>\n",
       "    <tr>\n",
       "      <th>Frey</th>\n",
       "      <td>NaN</td>\n",
       "      <td>2.0</td>\n",
       "    </tr>\n",
       "    <tr>\n",
       "      <th>Greyjoy</th>\n",
       "      <td>NaN</td>\n",
       "      <td>7.0</td>\n",
       "    </tr>\n",
       "    <tr>\n",
       "      <th>Lannister</th>\n",
       "      <td>1.0</td>\n",
       "      <td>7.0</td>\n",
       "    </tr>\n",
       "    <tr>\n",
       "      <th>Stark</th>\n",
       "      <td>2.0</td>\n",
       "      <td>6.0</td>\n",
       "    </tr>\n",
       "  </tbody>\n",
       "</table>\n",
       "</div>"
      ],
      "text/plain": [
       "                            attacker_outcome     \n",
       "attacker_outcome                        loss  win\n",
       "attacker_1                                       \n",
       "Baratheon                                1.0  4.0\n",
       "Bolton                                   NaN  2.0\n",
       "Bracken                                  NaN  1.0\n",
       "Brave Companions                         NaN  1.0\n",
       "Brotherhood without Banners              NaN  1.0\n",
       "Darry                                    NaN  1.0\n",
       "Free folk                                1.0  NaN\n",
       "Frey                                     NaN  2.0\n",
       "Greyjoy                                  NaN  7.0\n",
       "Lannister                                1.0  7.0\n",
       "Stark                                    2.0  6.0"
      ]
     },
     "execution_count": 28,
     "metadata": {},
     "output_type": "execute_result"
    }
   ],
   "source": [
    "attacker.unstack()"
   ]
  },
  {
   "cell_type": "markdown",
   "metadata": {},
   "source": [
    "## 2. 战争发动者在各年份成功与否\n",
    "1. `Lannister` `Greyjoy`， `Stark`发动战争次数最多，其中 `Greyjoy` 没有败绩， `Lannister` 失败一次，`Stark` 失败了两次\n",
    "2. 其他人中没有败绩的人为 `Bolton`，`Bracken`，`Brave Companions`，`Brotherhood without Banners`，`Darry` 以及 `Frey`，但是这些人发动战阵次数较少\n",
    "3. `Free folk` 发动了一次战争，并且失败而告终\n",
    "4. 在第二年之后战争发生次数增加，发动战争的人数增多"
   ]
  },
  {
   "cell_type": "code",
   "execution_count": 29,
   "metadata": {},
   "outputs": [],
   "source": [
    "war_size = data[[\"attacker_size\", \"defender_size\", \"attacker_outcome\"]]"
   ]
  },
  {
   "cell_type": "code",
   "execution_count": 30,
   "metadata": {
    "scrolled": true
   },
   "outputs": [
    {
     "name": "stderr",
     "output_type": "stream",
     "text": [
      "/Users/renrui/anaconda3/lib/python3.6/site-packages/pandas/core/frame.py:3035: SettingWithCopyWarning: \n",
      "A value is trying to be set on a copy of a slice from a DataFrame\n",
      "\n",
      "See the caveats in the documentation: http://pandas.pydata.org/pandas-docs/stable/indexing.html#indexing-view-versus-copy\n",
      "  downcast=downcast, **kwargs)\n"
     ]
    }
   ],
   "source": [
    "war_size_nonull = war_size.dropna(axis=0, how=\"all\", subset=[\"attacker_size\", \"defender_size\"])\n",
    "war_size_nonull.fillna(value=0, inplace=True)\n",
    "\n",
    "color_seq = []\n",
    "\n",
    "for i in war_size_nonull[\"attacker_outcome\"]:\n",
    "    if i == \"win\":\n",
    "        color_seq.append(\"green\")\n",
    "    elif i == \"loss\":\n",
    "        color_seq.append(\"red\")\n",
    "    else:\n",
    "        color_seq.append(\"black\")\n"
   ]
  },
  {
   "cell_type": "code",
   "execution_count": 31,
   "metadata": {},
   "outputs": [
    {
     "data": {
      "image/png": "[encoded data removed]",
      "text/plain": [
       "<Figure size 720x576 with 1 Axes>"
      ]
     },
     "metadata": {},
     "output_type": "display_data"
    }
   ],
   "source": [
    "plt.figure(figsize=(10, 8))\n",
    "y_axis = np.arange(0, war_size_nonull[\"defender_size\"].max())\n",
    "x_axis = np.arange(0, war_size_nonull[\"defender_size\"].max())\n",
    "\n",
    "scatter = plt.scatter(war_size_nonull[\"attacker_size\"], war_size_nonull[\"defender_size\"],c=color_seq, alpha=0.4)\n",
    "line = plt.plot(x_axis, y_axis, \"c--\")\n",
    "plt.title(\"Fig 3: Army Size Between Attecker And Defender\", fontsize=20, loc=\"left\")\n",
    "plt.xlabel(\"Attacker Army Size\", fontsize=16)\n",
    "plt.ylabel(\"Deffender Army Size\", fontsize=16)\n",
    "\n",
    "# create the legend\n",
    "handles = []\n",
    "for color, label in zip([\"green\", \"red\", \"black\"], [\"win\", \"loss\", \"unkown\"]):\n",
    "    handle = Line2D([], [], linestyle=\" \", marker=\"o\", color=color, label=label, alpha=0.4)\n",
    "    handles.append(handle)\n",
    "    \n",
    "handles.append(Line2D([], [], linestyle=\"--\",  color=\"c\", label=\"Ratio Attacker&Defender = 1:1\"))\n",
    "\n",
    "plt.legend(handles=handles)\n",
    "\n",
    "plt.show()"
   ]
  },
  {
   "cell_type": "code",
   "execution_count": 32,
   "metadata": {},
   "outputs": [
    {
     "name": "stdout",
     "output_type": "stream",
     "text": [
      "The number of the missing value is 11. The total number of smaple is 38.\n"
     ]
    }
   ],
   "source": [
    "print(\"The number of the missing value is %d. The total number of smaple is %d.\" % (war_size.shape[0] - war_size_nonull.shape[0], war_size.shape[0]))"
   ]
  },
  {
   "cell_type": "code",
   "execution_count": 33,
   "metadata": {},
   "outputs": [
    {
     "data": {
      "text/plain": [
       "attacker_outcome\n",
       "loss    0.131579\n",
       "win     0.842105\n",
       "Name: attacker_outcome, dtype: float64"
      ]
     },
     "execution_count": 33,
     "metadata": {},
     "output_type": "execute_result"
    }
   ],
   "source": [
    "data.groupby(\"attacker_outcome\")[\"attacker_outcome\"].count() / len(data)"
   ]
  },
  {
   "cell_type": "markdown",
   "metadata": {},
   "source": [
    "## 3. 战争参与人数与战争关系\n",
    "* 在数据集中有 `11` 个样本点中防守和进攻方没有数据描述，将相关数据抛弃。因此将余下的 `27` 个样本点绘制出攻守双方人员人数以及输赢关系图。从上图中，可以看出投入战争的人数和战争输赢之间没有必然的相关性，上图中有统计人数的共有 `4` 次发动战争方是失败的，另有一次是结果不明。\n",
    "* 同时从结果中可以看出，主动出击一方更容易获取战争的胜利。从完整的数据集来看，主动出击的胜利率为 `84.21%`"
   ]
  },
  {
   "cell_type": "code",
   "execution_count": 34,
   "metadata": {},
   "outputs": [],
   "source": [
    "battle_type = data.groupby([\"year\", \"battle_type\"])[\"battle_type\"].count()"
   ]
  },
  {
   "cell_type": "code",
   "execution_count": 35,
   "metadata": {},
   "outputs": [],
   "source": [
    "battle_type = battle_type.unstack()\n",
    "battle_type.fillna(value=0., inplace=True)"
   ]
  },
  {
   "cell_type": "code",
   "execution_count": 36,
   "metadata": {},
   "outputs": [
    {
     "data": {
      "image/png": "[encoded data removed]",
      "text/plain": [
       "<Figure size 720x576 with 1 Axes>"
      ]
     },
     "metadata": {},
     "output_type": "display_data"
    }
   ],
   "source": [
    "# create label\n",
    "labels = [\"ambush\", \"pitched battle\", \"razing\", \"seige\"]\n",
    "dataLength = len(labels)\n",
    "# create angle\n",
    "angles = np.linspace(0, 2*np.pi, dataLength, endpoint=False)\n",
    "angles = np.concatenate((angles, [angles[0]]))\n",
    "\n",
    "plt.figure(figsize=(10, 8))\n",
    "handles = []\n",
    "for year, color in zip([\"298\", \"299\", \"300\"], [\"m\", \"b\", \"g\"]):\n",
    "    radar_data = battle_type.query('year==%s' % year)\n",
    "    radar_data = pd.concat([radar_data, radar_data.iloc[:, 0]], axis=1)    \n",
    "    plt.polar(angles, radar_data.values[0], \"o-\", linewidth=2, alpha=0.2)\n",
    "    plt.fill(angles, radar_data.values[0], facecolor=color, alpha=0.2)\n",
    "    \n",
    "    # create the legend\n",
    "    handle = mpathes.Patch(color=color, label=year, alpha=0.2)\n",
    "    handles.append(handle)\n",
    "\n",
    "\n",
    "plt.ylim(0, battle_type.max().max())\n",
    "# create the label about the data\n",
    "plt.thetagrids(angles*180/np.pi, labels, fontsize=15, color=\"grey\")\n",
    "# plot the legend and labels\n",
    "plt.legend(handles=handles, loc=\"best\")\n",
    "plt.title(\"Fig 4: Battle Types In Every Year\", loc=\"left\", fontsize=20, pad=22)\n",
    "\n",
    "ax = plt.gca()\n",
    "plt.show()"
   ]
  },
  {
   "cell_type": "code",
   "execution_count": 37,
   "metadata": {},
   "outputs": [
    {
     "data": {
      "text/html": [
       "<div>\n",
       "<style scoped>\n",
       "    .dataframe tbody tr th:only-of-type {\n",
       "        vertical-align: middle;\n",
       "    }\n",
       "\n",
       "    .dataframe tbody tr th {\n",
       "        vertical-align: top;\n",
       "    }\n",
       "\n",
       "    .dataframe thead th {\n",
       "        text-align: right;\n",
       "    }\n",
       "</style>\n",
       "<table border=\"1\" class=\"dataframe\">\n",
       "  <thead>\n",
       "    <tr style=\"text-align: right;\">\n",
       "      <th>battle_type</th>\n",
       "      <th>ambush</th>\n",
       "      <th>pitched battle</th>\n",
       "      <th>razing</th>\n",
       "      <th>siege</th>\n",
       "    </tr>\n",
       "    <tr>\n",
       "      <th>year</th>\n",
       "      <th></th>\n",
       "      <th></th>\n",
       "      <th></th>\n",
       "      <th></th>\n",
       "    </tr>\n",
       "  </thead>\n",
       "  <tbody>\n",
       "    <tr>\n",
       "      <th>298</th>\n",
       "      <td>3.0</td>\n",
       "      <td>4.0</td>\n",
       "      <td>0.0</td>\n",
       "      <td>0.0</td>\n",
       "    </tr>\n",
       "    <tr>\n",
       "      <th>299</th>\n",
       "      <td>7.0</td>\n",
       "      <td>8.0</td>\n",
       "      <td>0.0</td>\n",
       "      <td>5.0</td>\n",
       "    </tr>\n",
       "    <tr>\n",
       "      <th>300</th>\n",
       "      <td>0.0</td>\n",
       "      <td>2.0</td>\n",
       "      <td>2.0</td>\n",
       "      <td>6.0</td>\n",
       "    </tr>\n",
       "  </tbody>\n",
       "</table>\n",
       "</div>"
      ],
      "text/plain": [
       "battle_type  ambush  pitched battle  razing  siege\n",
       "year                                              \n",
       "298             3.0             4.0     0.0    0.0\n",
       "299             7.0             8.0     0.0    5.0\n",
       "300             0.0             2.0     2.0    6.0"
      ]
     },
     "execution_count": 37,
     "metadata": {},
     "output_type": "execute_result"
    }
   ],
   "source": [
    "battle_type"
   ]
  },
  {
   "cell_type": "markdown",
   "metadata": {},
   "source": [
    "## 4. 战争类型变化\n",
    "从上图中可以看出随着时间的不同变化，战争类型和不同斗争方式也在变化。可以分别得出以下结论：\n",
    "1. 随着时间战争开始、高潮到结束三个阶段，遭遇战、阵地战和诡计类手段变化符合这种趋势\n",
    "2. 在战争后期，因为是小规模战役所以偶有使用对未设防位置进行攻击的手段\n",
    "3. 战争高潮阶段，使用的不同作战手段的次数增加"
   ]
  },
  {
   "cell_type": "markdown",
   "metadata": {},
   "source": [
    "在数据的探索性分析中，请确保你对数据分析中的关键步骤和推理过程进行了记录。你可以自己插入code cell和markdown cell来组织你的报告。"
   ]
  },
  {
   "cell_type": "code",
   "execution_count": 38,
   "metadata": {},
   "outputs": [],
   "source": [
    "from statsmodels.discrete.discrete_model import Logit"
   ]
  },
  {
   "cell_type": "code",
   "execution_count": 39,
   "metadata": {},
   "outputs": [
    {
     "data": {
      "text/html": [
       "<div>\n",
       "<style scoped>\n",
       "    .dataframe tbody tr th:only-of-type {\n",
       "        vertical-align: middle;\n",
       "    }\n",
       "\n",
       "    .dataframe tbody tr th {\n",
       "        vertical-align: top;\n",
       "    }\n",
       "\n",
       "    .dataframe thead th {\n",
       "        text-align: right;\n",
       "    }\n",
       "</style>\n",
       "<table border=\"1\" class=\"dataframe\">\n",
       "  <thead>\n",
       "    <tr style=\"text-align: right;\">\n",
       "      <th></th>\n",
       "      <th>name</th>\n",
       "      <th>year</th>\n",
       "      <th>attacker_king</th>\n",
       "      <th>defender_king</th>\n",
       "      <th>attacker_1</th>\n",
       "      <th>attacker_2</th>\n",
       "      <th>defender_1</th>\n",
       "      <th>defender_2</th>\n",
       "      <th>attacker_outcome</th>\n",
       "      <th>battle_type</th>\n",
       "      <th>major_death</th>\n",
       "      <th>major_capture</th>\n",
       "      <th>attacker_size</th>\n",
       "      <th>defender_size</th>\n",
       "      <th>attacker_commander</th>\n",
       "      <th>defender_commander</th>\n",
       "      <th>summer</th>\n",
       "      <th>location</th>\n",
       "      <th>region</th>\n",
       "    </tr>\n",
       "  </thead>\n",
       "  <tbody>\n",
       "    <tr>\n",
       "      <th>0</th>\n",
       "      <td>Battle of the Golden Tooth</td>\n",
       "      <td>298</td>\n",
       "      <td>Joffrey/Tommen Baratheon</td>\n",
       "      <td>Robb Stark</td>\n",
       "      <td>Lannister</td>\n",
       "      <td>NaN</td>\n",
       "      <td>Tully</td>\n",
       "      <td>NaN</td>\n",
       "      <td>win</td>\n",
       "      <td>pitched battle</td>\n",
       "      <td>Yes</td>\n",
       "      <td>No</td>\n",
       "      <td>15000.0</td>\n",
       "      <td>4000.0</td>\n",
       "      <td>Jaime Lannister</td>\n",
       "      <td>Clement Piper, Vance</td>\n",
       "      <td>Yes</td>\n",
       "      <td>Golden Tooth</td>\n",
       "      <td>The Westerlands</td>\n",
       "    </tr>\n",
       "    <tr>\n",
       "      <th>1</th>\n",
       "      <td>Battle at the Mummer's Ford</td>\n",
       "      <td>298</td>\n",
       "      <td>Joffrey/Tommen Baratheon</td>\n",
       "      <td>Robb Stark</td>\n",
       "      <td>Lannister</td>\n",
       "      <td>NaN</td>\n",
       "      <td>Baratheon</td>\n",
       "      <td>NaN</td>\n",
       "      <td>win</td>\n",
       "      <td>ambush</td>\n",
       "      <td>Yes</td>\n",
       "      <td>No</td>\n",
       "      <td>NaN</td>\n",
       "      <td>120.0</td>\n",
       "      <td>Gregor Clegane</td>\n",
       "      <td>Beric Dondarrion</td>\n",
       "      <td>Yes</td>\n",
       "      <td>Mummer's Ford</td>\n",
       "      <td>The Riverlands</td>\n",
       "    </tr>\n",
       "    <tr>\n",
       "      <th>2</th>\n",
       "      <td>Battle of Riverrun</td>\n",
       "      <td>298</td>\n",
       "      <td>Joffrey/Tommen Baratheon</td>\n",
       "      <td>Robb Stark</td>\n",
       "      <td>Lannister</td>\n",
       "      <td>NaN</td>\n",
       "      <td>Tully</td>\n",
       "      <td>NaN</td>\n",
       "      <td>win</td>\n",
       "      <td>pitched battle</td>\n",
       "      <td>No</td>\n",
       "      <td>Yes</td>\n",
       "      <td>15000.0</td>\n",
       "      <td>10000.0</td>\n",
       "      <td>Jaime Lannister, Andros Brax</td>\n",
       "      <td>Edmure Tully, Tytos Blackwood</td>\n",
       "      <td>Yes</td>\n",
       "      <td>Riverrun</td>\n",
       "      <td>The Riverlands</td>\n",
       "    </tr>\n",
       "    <tr>\n",
       "      <th>3</th>\n",
       "      <td>Battle of the Green Fork</td>\n",
       "      <td>298</td>\n",
       "      <td>Robb Stark</td>\n",
       "      <td>Joffrey/Tommen Baratheon</td>\n",
       "      <td>Stark</td>\n",
       "      <td>NaN</td>\n",
       "      <td>Lannister</td>\n",
       "      <td>NaN</td>\n",
       "      <td>loss</td>\n",
       "      <td>pitched battle</td>\n",
       "      <td>Yes</td>\n",
       "      <td>Yes</td>\n",
       "      <td>18000.0</td>\n",
       "      <td>20000.0</td>\n",
       "      <td>Roose Bolton, Wylis Manderly, Medger Cerwyn, H...</td>\n",
       "      <td>Tywin Lannister, Gregor Clegane, Kevan Lannist...</td>\n",
       "      <td>Yes</td>\n",
       "      <td>Green Fork</td>\n",
       "      <td>The Riverlands</td>\n",
       "    </tr>\n",
       "    <tr>\n",
       "      <th>4</th>\n",
       "      <td>Battle of the Whispering Wood</td>\n",
       "      <td>298</td>\n",
       "      <td>Robb Stark</td>\n",
       "      <td>Joffrey/Tommen Baratheon</td>\n",
       "      <td>Stark</td>\n",
       "      <td>Tully</td>\n",
       "      <td>Lannister</td>\n",
       "      <td>NaN</td>\n",
       "      <td>win</td>\n",
       "      <td>ambush</td>\n",
       "      <td>Yes</td>\n",
       "      <td>Yes</td>\n",
       "      <td>1875.0</td>\n",
       "      <td>6000.0</td>\n",
       "      <td>Robb Stark, Brynden Tully</td>\n",
       "      <td>Jaime Lannister</td>\n",
       "      <td>Yes</td>\n",
       "      <td>Whispering Wood</td>\n",
       "      <td>The Riverlands</td>\n",
       "    </tr>\n",
       "    <tr>\n",
       "      <th>5</th>\n",
       "      <td>Battle of the Camps</td>\n",
       "      <td>298</td>\n",
       "      <td>Robb Stark</td>\n",
       "      <td>Joffrey/Tommen Baratheon</td>\n",
       "      <td>Stark</td>\n",
       "      <td>Tully</td>\n",
       "      <td>Lannister</td>\n",
       "      <td>NaN</td>\n",
       "      <td>win</td>\n",
       "      <td>ambush</td>\n",
       "      <td>No</td>\n",
       "      <td>No</td>\n",
       "      <td>6000.0</td>\n",
       "      <td>12625.0</td>\n",
       "      <td>Robb Stark, Tytos Blackwood, Brynden Tully</td>\n",
       "      <td>Lord Andros Brax, Forley Prester</td>\n",
       "      <td>Yes</td>\n",
       "      <td>Riverrun</td>\n",
       "      <td>The Riverlands</td>\n",
       "    </tr>\n",
       "    <tr>\n",
       "      <th>6</th>\n",
       "      <td>Sack of Darry</td>\n",
       "      <td>298</td>\n",
       "      <td>Joffrey/Tommen Baratheon</td>\n",
       "      <td>Robb Stark</td>\n",
       "      <td>Lannister</td>\n",
       "      <td>NaN</td>\n",
       "      <td>Darry</td>\n",
       "      <td>NaN</td>\n",
       "      <td>win</td>\n",
       "      <td>pitched battle</td>\n",
       "      <td>No</td>\n",
       "      <td>No</td>\n",
       "      <td>NaN</td>\n",
       "      <td>NaN</td>\n",
       "      <td>Gregor Clegane</td>\n",
       "      <td>Lyman Darry</td>\n",
       "      <td>Yes</td>\n",
       "      <td>Darry</td>\n",
       "      <td>The Riverlands</td>\n",
       "    </tr>\n",
       "    <tr>\n",
       "      <th>7</th>\n",
       "      <td>Battle of Moat Cailin</td>\n",
       "      <td>299</td>\n",
       "      <td>Balon/Euron Greyjoy</td>\n",
       "      <td>Robb Stark</td>\n",
       "      <td>Greyjoy</td>\n",
       "      <td>NaN</td>\n",
       "      <td>Stark</td>\n",
       "      <td>NaN</td>\n",
       "      <td>win</td>\n",
       "      <td>pitched battle</td>\n",
       "      <td>No</td>\n",
       "      <td>No</td>\n",
       "      <td>NaN</td>\n",
       "      <td>NaN</td>\n",
       "      <td>Victarion Greyjoy</td>\n",
       "      <td>NaN</td>\n",
       "      <td>Yes</td>\n",
       "      <td>Moat Cailin</td>\n",
       "      <td>The North</td>\n",
       "    </tr>\n",
       "    <tr>\n",
       "      <th>8</th>\n",
       "      <td>Battle of Deepwood Motte</td>\n",
       "      <td>299</td>\n",
       "      <td>Balon/Euron Greyjoy</td>\n",
       "      <td>Robb Stark</td>\n",
       "      <td>Greyjoy</td>\n",
       "      <td>NaN</td>\n",
       "      <td>Stark</td>\n",
       "      <td>NaN</td>\n",
       "      <td>win</td>\n",
       "      <td>siege</td>\n",
       "      <td>No</td>\n",
       "      <td>No</td>\n",
       "      <td>1000.0</td>\n",
       "      <td>NaN</td>\n",
       "      <td>Asha Greyjoy</td>\n",
       "      <td>NaN</td>\n",
       "      <td>Yes</td>\n",
       "      <td>Deepwood Motte</td>\n",
       "      <td>The North</td>\n",
       "    </tr>\n",
       "    <tr>\n",
       "      <th>9</th>\n",
       "      <td>Battle of the Stony Shore</td>\n",
       "      <td>299</td>\n",
       "      <td>Balon/Euron Greyjoy</td>\n",
       "      <td>Robb Stark</td>\n",
       "      <td>Greyjoy</td>\n",
       "      <td>NaN</td>\n",
       "      <td>Stark</td>\n",
       "      <td>NaN</td>\n",
       "      <td>win</td>\n",
       "      <td>ambush</td>\n",
       "      <td>No</td>\n",
       "      <td>No</td>\n",
       "      <td>264.0</td>\n",
       "      <td>NaN</td>\n",
       "      <td>Theon Greyjoy</td>\n",
       "      <td>NaN</td>\n",
       "      <td>Yes</td>\n",
       "      <td>Stony Shore</td>\n",
       "      <td>The North</td>\n",
       "    </tr>\n",
       "  </tbody>\n",
       "</table>\n",
       "</div>"
      ],
      "text/plain": [
       "                            name year             attacker_king  \\\n",
       "0     Battle of the Golden Tooth  298  Joffrey/Tommen Baratheon   \n",
       "1    Battle at the Mummer's Ford  298  Joffrey/Tommen Baratheon   \n",
       "2             Battle of Riverrun  298  Joffrey/Tommen Baratheon   \n",
       "3       Battle of the Green Fork  298                Robb Stark   \n",
       "4  Battle of the Whispering Wood  298                Robb Stark   \n",
       "5            Battle of the Camps  298                Robb Stark   \n",
       "6                  Sack of Darry  298  Joffrey/Tommen Baratheon   \n",
       "7          Battle of Moat Cailin  299       Balon/Euron Greyjoy   \n",
       "8       Battle of Deepwood Motte  299       Balon/Euron Greyjoy   \n",
       "9      Battle of the Stony Shore  299       Balon/Euron Greyjoy   \n",
       "\n",
       "              defender_king attacker_1 attacker_2 defender_1 defender_2  \\\n",
       "0                Robb Stark  Lannister        NaN      Tully        NaN   \n",
       "1                Robb Stark  Lannister        NaN  Baratheon        NaN   \n",
       "2                Robb Stark  Lannister        NaN      Tully        NaN   \n",
       "3  Joffrey/Tommen Baratheon      Stark        NaN  Lannister        NaN   \n",
       "4  Joffrey/Tommen Baratheon      Stark      Tully  Lannister        NaN   \n",
       "5  Joffrey/Tommen Baratheon      Stark      Tully  Lannister        NaN   \n",
       "6                Robb Stark  Lannister        NaN      Darry        NaN   \n",
       "7                Robb Stark    Greyjoy        NaN      Stark        NaN   \n",
       "8                Robb Stark    Greyjoy        NaN      Stark        NaN   \n",
       "9                Robb Stark    Greyjoy        NaN      Stark        NaN   \n",
       "\n",
       "  attacker_outcome     battle_type major_death major_capture  attacker_size  \\\n",
       "0              win  pitched battle         Yes            No        15000.0   \n",
       "1              win          ambush         Yes            No            NaN   \n",
       "2              win  pitched battle          No           Yes        15000.0   \n",
       "3             loss  pitched battle         Yes           Yes        18000.0   \n",
       "4              win          ambush         Yes           Yes         1875.0   \n",
       "5              win          ambush          No            No         6000.0   \n",
       "6              win  pitched battle          No            No            NaN   \n",
       "7              win  pitched battle          No            No            NaN   \n",
       "8              win           siege          No            No         1000.0   \n",
       "9              win          ambush          No            No          264.0   \n",
       "\n",
       "   defender_size                                 attacker_commander  \\\n",
       "0         4000.0                                    Jaime Lannister   \n",
       "1          120.0                                     Gregor Clegane   \n",
       "2        10000.0                       Jaime Lannister, Andros Brax   \n",
       "3        20000.0  Roose Bolton, Wylis Manderly, Medger Cerwyn, H...   \n",
       "4         6000.0                          Robb Stark, Brynden Tully   \n",
       "5        12625.0         Robb Stark, Tytos Blackwood, Brynden Tully   \n",
       "6            NaN                                     Gregor Clegane   \n",
       "7            NaN                                  Victarion Greyjoy   \n",
       "8            NaN                                       Asha Greyjoy   \n",
       "9            NaN                                      Theon Greyjoy   \n",
       "\n",
       "                                  defender_commander summer         location  \\\n",
       "0                               Clement Piper, Vance    Yes     Golden Tooth   \n",
       "1                                   Beric Dondarrion    Yes    Mummer's Ford   \n",
       "2                      Edmure Tully, Tytos Blackwood    Yes         Riverrun   \n",
       "3  Tywin Lannister, Gregor Clegane, Kevan Lannist...    Yes       Green Fork   \n",
       "4                                    Jaime Lannister    Yes  Whispering Wood   \n",
       "5                   Lord Andros Brax, Forley Prester    Yes         Riverrun   \n",
       "6                                        Lyman Darry    Yes            Darry   \n",
       "7                                                NaN    Yes      Moat Cailin   \n",
       "8                                                NaN    Yes   Deepwood Motte   \n",
       "9                                                NaN    Yes      Stony Shore   \n",
       "\n",
       "            region  \n",
       "0  The Westerlands  \n",
       "1   The Riverlands  \n",
       "2   The Riverlands  \n",
       "3   The Riverlands  \n",
       "4   The Riverlands  \n",
       "5   The Riverlands  \n",
       "6   The Riverlands  \n",
       "7        The North  \n",
       "8        The North  \n",
       "9        The North  "
      ]
     },
     "execution_count": 39,
     "metadata": {},
     "output_type": "execute_result"
    }
   ],
   "source": [
    "data.head(10)"
   ]
  },
  {
   "cell_type": "code",
   "execution_count": 40,
   "metadata": {
    "scrolled": true
   },
   "outputs": [
    {
     "name": "stdout",
     "output_type": "stream",
     "text": [
      "Optimization terminated successfully.\n",
      "         Current function value: 0.318098\n",
      "         Iterations 8\n",
      "                        Results: Logit\n",
      "==============================================================\n",
      "Model:              Logit            No. Iterations:   8.0000 \n",
      "Dependent Variable: attacker_outcome Pseudo R-squared: 0.488  \n",
      "Date:               2018-05-28 20:54 AIC:              16.1791\n",
      "No. Observations:   16               BIC:              18.4969\n",
      "Df Model:           2                Log-Likelihood:   -5.0896\n",
      "Df Residuals:       13               LL-Null:          -9.9374\n",
      "Converged:          1.0000           Scale:            1.0000 \n",
      "--------------------------------------------------------------\n",
      "                 Coef.  Std.Err.    z    P>|z|   [0.025 0.975]\n",
      "--------------------------------------------------------------\n",
      "attacker_size   -0.0002   0.0001 -1.9257 0.0541 -0.0005 0.0000\n",
      "defender_size   -0.0001   0.0001 -0.6555 0.5122 -0.0004 0.0002\n",
      "intercept        4.3836   2.2971  1.9083 0.0564 -0.1187 8.8859\n",
      "==============================================================\n",
      "\n"
     ]
    }
   ],
   "source": [
    "# 创建和修改数据\n",
    "analysis_data = data[[\"attacker_size\", \"defender_size\", \"attacker_outcome\"]].copy(deep=True)\n",
    "analysis_data.loc[:,\"attacker_outcome\"] = \\\n",
    "    analysis_data.loc[:,\"attacker_outcome\"].apply(lambda x :1 if x==\"win\" else 0)\n",
    "    \n",
    "analysis_data.dropna(subset=[\"attacker_size\", \"defender_size\"], inplace=True)\n",
    "# 创建 intercept 值\n",
    "analysis_data[\"intercept\"] = np.repeat(1, len(analysis_data))\n",
    "# 构建模型\n",
    "model = Logit(analysis_data[\"attacker_outcome\"], analysis_data[[\"attacker_size\", \"defender_size\", \"intercept\"]])\n",
    "\n",
    "# 生成报告\n",
    "result = model.fit()\n",
    "print(result.summary2())"
   ]
  },
  {
   "cell_type": "code",
   "execution_count": 41,
   "metadata": {},
   "outputs": [
    {
     "data": {
      "image/png": "[encoded data removed]",
      "text/plain": [
       "<Figure size 720x432 with 1 Axes>"
      ]
     },
     "metadata": {},
     "output_type": "display_data"
    }
   ],
   "source": [
    "battle_type = data.groupby([\"year\", \"battle_type\"])[\"battle_type\"].count()\n",
    "\n",
    "battle_type = battle_type.unstack()\n",
    "battle_type.fillna(value=0., inplace=True)\n",
    "\n",
    "plt.figure(figsize=(10, 6))\n",
    "x_axis = np.arange(0, 10, 3)\n",
    "colors = [\"r\", \"g\", \"m\"]\n",
    "year = [\"298\", \"299\", \"300\"]\n",
    "for i in range(3):\n",
    "    plt.bar(x=x_axis+i, height=battle_type.iloc[i, :].get_values(), alpha=0.4, label=year[i], facecolor=colors[i])\n",
    "\n",
    "# locs, labels = plt.xticks()\n",
    "locs = x_axis+1\n",
    "labels = battle_type.columns.get_values()\n",
    "plt.xticks(locs, labels)\n",
    "plt.legend()\n",
    "plt.show()"
   ]
  },
  {
   "cell_type": "markdown",
   "metadata": {},
   "source": [
    "## 得出结论"
   ]
  },
  {
   "cell_type": "markdown",
   "metadata": {},
   "source": [
    "**问题**：上面的分析能够回答你提出的问题？通过这些分析你能够得出哪些结论？\n",
    "\n",
    "**答案**：在分析战争过程中，可以将对应的三个年份分别划分为战争初期、高潮和结束三个阶段。在战争中期的高潮阶段，发动战争频次和使用手段都增强。同时在主动发动战争的时候，反而更容易获取战争都胜利。战争胜利与否反而与攻击防守方兵力比例没有表现出相关性。"
   ]
  },
  {
   "cell_type": "markdown",
   "metadata": {},
   "source": [
    "## 反思"
   ]
  },
  {
   "cell_type": "markdown",
   "metadata": {},
   "source": [
    "**问题**：在你的分析和总结过程中是否存在逻辑严谨。是否有改进的空间? 你可以从下面的一些角度进行思考：\n",
    "1. 数据集是否完整，包含所有想要分析的数据？\n",
    "2. 在对数据进行处理的时候，你的操作（例如删除/填充缺失值）是否可能影响结论？\n",
    "3. 是否还有其他变量（本数据中没有）能够对你的分析有帮助？\n",
    "4. 在得出结论时，你是否混淆了相关性和因果性？\n",
    "\n",
    "**答案**：从分析过程来看，数据集相对完整，但是数据存在缺失——这严重影响分析结果。分析参战人数比例时，采用了删除缺失值的策略，对结果影响不大；对战争类型分析时，采用了填充为 `0` 的方式，对结果表现不明——因为不能明确最后对战争胜利关系，也没有对这一点进行分析。目前阶段尚未有需要额外数据进行分析。\n",
    "\n",
    "一些反思：在分析时候对数据整体把握还欠考虑，因为对五王战争的故事不明，只能单纯从数据触发去分析——这点是最大的弊病；目前还缺少对数据横向关系的分析，例如最终影响战争的因素有哪些——这点需要从建模方向去考虑"
   ]
  },
  {
   "cell_type": "markdown",
   "metadata": {},
   "source": [
    "恭喜你完成了此项目！这只是数据分析过程的一个样本：从生成问题、整理数据、探索数据到得出结论。在数据分析(进阶)纳米学位中，你将会学到更多高级的数据分析方法和技术，如果你感兴趣的话，我们鼓励你继续学习后续的课程，掌握更多的数据分析的高级技能！"
   ]
  },
  {
   "cell_type": "markdown",
   "metadata": {},
   "source": [
    "> 若想与他人分享我们的分析结果，除了向他们提供 jupyter Notebook (.ipynb) 文件的副本外，我们还可以将 Notebook 输出导出为一种甚至那些未安装 Python 的人都能打开的形式。从左上方的“文件”菜单，前往“下载为”子菜单。然后你可以选择一个可以更普遍查看的格式，例如 HTML (.html) 。你可能需要额外软件包或软件来执行这些导出。"
   ]
  },
  {
   "cell_type": "markdown",
   "metadata": {},
   "source": [
    "## 参考\n",
    "1. [matplotlib polar 雷达图](https://blog.csdn.net/claroja/article/details/78600011)\n",
    "2. [Thumbnail gallery ](https://matplotlib.org/1.4.1/gallery.html)"
   ]
  }
 ],
 "metadata": {
  "kernelspec": {
   "display_name": "Python [default]",
   "language": "python",
   "name": "python3"
  },
  "language_info": {
   "codemirror_mode": {
    "name": "ipython",
    "version": 3
   },
   "file_extension": ".py",
   "mimetype": "text/x-python",
   "name": "python",
   "nbconvert_exporter": "python",
   "pygments_lexer": "ipython3",
   "version": "3.6.5"
  }
 },
 "nbformat": 4,
 "nbformat_minor": 2
}
